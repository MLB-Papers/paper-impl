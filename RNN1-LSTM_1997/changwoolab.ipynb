{
  "nbformat": 4,
  "nbformat_minor": 0,
  "metadata": {
    "colab": {
      "provenance": [],
      "gpuType": "T4"
    },
    "kernelspec": {
      "name": "python3",
      "display_name": "Python 3"
    },
    "language_info": {
      "name": "python"
    },
    "accelerator": "GPU"
  },
  "cells": [
    {
      "cell_type": "code",
      "execution_count": 1,
      "metadata": {
        "id": "YQolNXOm9LbB"
      },
      "outputs": [],
      "source": [
        "import torch\n",
        "import torch.nn as nn\n",
        "import torchvision.transforms as transforms\n",
        "import torchvision.datasets as datasets\n",
        "from torch import Tensor\n",
        "import torch.nn.functional as F\n",
        "import pdb\n",
        "import math\n",
        "from torch.optim.lr_scheduler import LambdaLR\n",
        "\n",
        "import numpy as np\n",
        "import matplotlib.pyplot as plt"
      ]
    },
    {
      "cell_type": "code",
      "source": [
        "device = \"cuda\" if torch.cuda.is_available() else \"cpu\"\n",
        "device"
      ],
      "metadata": {
        "colab": {
          "base_uri": "https://localhost:8080/",
          "height": 35
        },
        "id": "7_3oLe3D9ato",
        "outputId": "0f2afaeb-e3ae-4b36-939f-e996185e9967"
      },
      "execution_count": 2,
      "outputs": [
        {
          "output_type": "execute_result",
          "data": {
            "text/plain": [
              "'cuda'"
            ],
            "application/vnd.google.colaboratory.intrinsic+json": {
              "type": "string"
            }
          },
          "metadata": {},
          "execution_count": 2
        }
      ]
    },
    {
      "cell_type": "code",
      "source": [
        "Tensor = torch.cuda.FloatTensor if torch.cuda.is_available() else torch.FloatTensor\n",
        "Tensor"
      ],
      "metadata": {
        "colab": {
          "base_uri": "https://localhost:8080/"
        },
        "id": "QXIat2kQ9joj",
        "outputId": "fc33745d-650b-422b-efff-047ee3c82911"
      },
      "execution_count": 3,
      "outputs": [
        {
          "output_type": "execute_result",
          "data": {
            "text/plain": [
              "torch.cuda.FloatTensor"
            ]
          },
          "metadata": {},
          "execution_count": 3
        }
      ]
    },
    {
      "cell_type": "code",
      "source": [
        "torch.manual_seed=(42)\n",
        "if torch.cuda.is_available():\n",
        "    torch.cuda.manual_seed_all(42)"
      ],
      "metadata": {
        "id": "iwjBpOA49psP"
      },
      "execution_count": 4,
      "outputs": []
    },
    {
      "cell_type": "markdown",
      "source": [
        "# Step 1: Load Dataset\n",
        "\n",
        "Let's load MNIST dataset"
      ],
      "metadata": {
        "id": "7yG63dYO9ux-"
      }
    },
    {
      "cell_type": "code",
      "source": [
        "train_dataset = datasets.MNIST(root='./mnist_data/',\n",
        "                            train=True,\n",
        "                            transform=transforms.ToTensor(),\n",
        "                            download=True)\n",
        "test_dataset = datasets.MNIST(root='./mnist_data',\n",
        "                              train=False,\n",
        "                              transform=transforms.ToTensor(),\n",
        "                              download=True)"
      ],
      "metadata": {
        "id": "bzFtDP8h907t",
        "colab": {
          "base_uri": "https://localhost:8080/"
        },
        "outputId": "4b1dcabc-7c76-4449-f7eb-c2224d17676a"
      },
      "execution_count": 5,
      "outputs": [
        {
          "output_type": "stream",
          "name": "stdout",
          "text": [
            "Downloading http://yann.lecun.com/exdb/mnist/train-images-idx3-ubyte.gz\n",
            "Failed to download (trying next):\n",
            "HTTP Error 403: Forbidden\n",
            "\n",
            "Downloading https://ossci-datasets.s3.amazonaws.com/mnist/train-images-idx3-ubyte.gz\n",
            "Downloading https://ossci-datasets.s3.amazonaws.com/mnist/train-images-idx3-ubyte.gz to ./mnist_data/MNIST/raw/train-images-idx3-ubyte.gz\n"
          ]
        },
        {
          "output_type": "stream",
          "name": "stderr",
          "text": [
            "100%|██████████| 9912422/9912422 [00:00<00:00, 15219943.64it/s]\n"
          ]
        },
        {
          "output_type": "stream",
          "name": "stdout",
          "text": [
            "Extracting ./mnist_data/MNIST/raw/train-images-idx3-ubyte.gz to ./mnist_data/MNIST/raw\n",
            "\n",
            "Downloading http://yann.lecun.com/exdb/mnist/train-labels-idx1-ubyte.gz\n",
            "Failed to download (trying next):\n",
            "HTTP Error 403: Forbidden\n",
            "\n",
            "Downloading https://ossci-datasets.s3.amazonaws.com/mnist/train-labels-idx1-ubyte.gz\n",
            "Downloading https://ossci-datasets.s3.amazonaws.com/mnist/train-labels-idx1-ubyte.gz to ./mnist_data/MNIST/raw/train-labels-idx1-ubyte.gz\n"
          ]
        },
        {
          "output_type": "stream",
          "name": "stderr",
          "text": [
            "100%|██████████| 28881/28881 [00:00<00:00, 444694.58it/s]\n"
          ]
        },
        {
          "output_type": "stream",
          "name": "stdout",
          "text": [
            "Extracting ./mnist_data/MNIST/raw/train-labels-idx1-ubyte.gz to ./mnist_data/MNIST/raw\n",
            "\n",
            "Downloading http://yann.lecun.com/exdb/mnist/t10k-images-idx3-ubyte.gz\n",
            "Failed to download (trying next):\n",
            "HTTP Error 403: Forbidden\n",
            "\n",
            "Downloading https://ossci-datasets.s3.amazonaws.com/mnist/t10k-images-idx3-ubyte.gz\n",
            "Downloading https://ossci-datasets.s3.amazonaws.com/mnist/t10k-images-idx3-ubyte.gz to ./mnist_data/MNIST/raw/t10k-images-idx3-ubyte.gz\n"
          ]
        },
        {
          "output_type": "stream",
          "name": "stderr",
          "text": [
            "100%|██████████| 1648877/1648877 [00:00<00:00, 3948591.79it/s]\n"
          ]
        },
        {
          "output_type": "stream",
          "name": "stdout",
          "text": [
            "Extracting ./mnist_data/MNIST/raw/t10k-images-idx3-ubyte.gz to ./mnist_data/MNIST/raw\n",
            "\n",
            "Downloading http://yann.lecun.com/exdb/mnist/t10k-labels-idx1-ubyte.gz\n",
            "Failed to download (trying next):\n",
            "HTTP Error 403: Forbidden\n",
            "\n",
            "Downloading https://ossci-datasets.s3.amazonaws.com/mnist/t10k-labels-idx1-ubyte.gz\n",
            "Downloading https://ossci-datasets.s3.amazonaws.com/mnist/t10k-labels-idx1-ubyte.gz to ./mnist_data/MNIST/raw/t10k-labels-idx1-ubyte.gz\n"
          ]
        },
        {
          "output_type": "stream",
          "name": "stderr",
          "text": [
            "100%|██████████| 4542/4542 [00:00<00:00, 8706823.02it/s]\n"
          ]
        },
        {
          "output_type": "stream",
          "name": "stdout",
          "text": [
            "Extracting ./mnist_data/MNIST/raw/t10k-labels-idx1-ubyte.gz to ./mnist_data/MNIST/raw\n",
            "\n"
          ]
        }
      ]
    },
    {
      "cell_type": "code",
      "source": [
        "batch_size = 100\n",
        "num_epochs = 10"
      ],
      "metadata": {
        "id": "jTFMxGB1-Hvp"
      },
      "execution_count": 6,
      "outputs": []
    },
    {
      "cell_type": "code",
      "source": [
        "train_loader = torch.utils.data.DataLoader(dataset=train_dataset,\n",
        "                                           batch_size=batch_size,\n",
        "                                           shuffle=True)\n",
        "test_loader = torch.utils.data.DataLoader(dataset=test_dataset,\n",
        "                                          batch_size=batch_size,\n",
        "                                          shuffle=False)"
      ],
      "metadata": {
        "id": "EHgqjlB2-TT7"
      },
      "execution_count": 7,
      "outputs": []
    },
    {
      "cell_type": "markdown",
      "source": [
        "# Step 2: LSTM cell implementation"
      ],
      "metadata": {
        "id": "8RGJCyrI-Xxf"
      }
    },
    {
      "cell_type": "code",
      "source": [
        "class LSTMCell(nn.Module):\n",
        "  def __init__(self, input_size, hidden_size, bias=True):\n",
        "    super(LSTMCell, self).__init__()\n",
        "    self.input_size = input_size\n",
        "    self.hidden_size = hidden_size\n",
        "    self.bias = bias\n",
        "    self.x2h = nn.Linear(input_size, 4 * hidden_size, bias=bias)\n",
        "    self.h2h = nn.Linear(hidden_size, 4 * hidden_size, bias=bias)\n",
        "    self.reset_parameters()\n",
        "\n",
        "  def reset_parameters(self):\n",
        "    std = 1.0 / math.sqrt(self.hidden_size)\n",
        "    for w in self.parameters():\n",
        "      w.data.uniform_(-std, std)\n",
        "\n",
        "  def forward(self, x, hidden):\n",
        "    hx, cx = hidden\n",
        "\n",
        "    x = x.view(-1, x.size(1))\n",
        "\n",
        "    gates = self.x2h(x) + self.h2h(hx)\n",
        "    gates = gates.squeeze()\n",
        "\n",
        "    ingate, forgetgate, cellgate, outgate = gates.chunk(4, 1)\n",
        "\n",
        "    forgetgate = F.sigmoid(forgetgate) # Forget\n",
        "    ingate = F.sigmoid(ingate) # Update\n",
        "    cellgate = F.tanh(cellgate) # tanh\n",
        "    outgate = F.sigmoid(outgate) # output\n",
        "\n",
        "    cy = torch.mul(cx, forgetgate) + torch.mul(ingate, cellgate)\n",
        "    hy = torch.mul(outgate, F.tanh(cy))\n",
        "\n",
        "    return (hy, cy)"
      ],
      "metadata": {
        "id": "6JiFdPHx-dBL"
      },
      "execution_count": 8,
      "outputs": []
    },
    {
      "cell_type": "markdown",
      "source": [
        "# Step 3: Create Model Class"
      ],
      "metadata": {
        "id": "qx21ITglGFXP"
      }
    },
    {
      "cell_type": "code",
      "source": [
        "class LSTMModel(nn.Module):\n",
        "  def __init__(self, input_dim, hidden_dim, layer_dim, output_dim, bias=True):\n",
        "    super(LSTMModel, self).__init__()\n",
        "    self.hidden_dim = hidden_dim\n",
        "    self.layer_dim = layer_dim\n",
        "    self.lstm = LSTMCell(input_dim, hidden_dim, layer_dim)\n",
        "    self.fc = nn.Linear(hidden_dim, output_dim)\n",
        "\n",
        "  def forward(self, x):\n",
        "    # Init hidden states\n",
        "    h0 = torch.zeros(self.layer_dim, x.size(0), self.hidden_dim).to(device)\n",
        "\n",
        "    # Init cell states\n",
        "    c0 = torch.zeros(self.layer_dim, x.size(0), self.hidden_dim).to(device)\n",
        "\n",
        "    outs = []\n",
        "\n",
        "    cn = c0[0,:,:]\n",
        "    hn = h0[0,:,:]\n",
        "\n",
        "    for seq in range(x.size(1)):\n",
        "      hn, cn = self.lstm(x[:,seq,:], (hn, cn))\n",
        "      outs.append(hn)\n",
        "\n",
        "    out = outs[-1].squeeze()\n",
        "    out = self.fc(out)\n",
        "\n",
        "    return out"
      ],
      "metadata": {
        "id": "59Zzm_acH_Et"
      },
      "execution_count": 9,
      "outputs": []
    },
    {
      "cell_type": "markdown",
      "source": [
        "# Step 4: Init model Class"
      ],
      "metadata": {
        "id": "kgtp7jd4Ivja"
      }
    },
    {
      "cell_type": "code",
      "source": [
        "input_dim = 28\n",
        "hidden_dim = 128\n",
        "layer_dim = 1\n",
        "output_dim = 10\n",
        "\n",
        "model = LSTMModel(input_dim, hidden_dim, layer_dim, output_dim)\n",
        "model.to(device)"
      ],
      "metadata": {
        "colab": {
          "base_uri": "https://localhost:8080/"
        },
        "id": "YATMxt2EIyrB",
        "outputId": "04b49756-7b6f-42aa-908d-57e75bdd5305"
      },
      "execution_count": 10,
      "outputs": [
        {
          "output_type": "execute_result",
          "data": {
            "text/plain": [
              "LSTMModel(\n",
              "  (lstm): LSTMCell(\n",
              "    (x2h): Linear(in_features=28, out_features=512, bias=True)\n",
              "    (h2h): Linear(in_features=128, out_features=512, bias=True)\n",
              "  )\n",
              "  (fc): Linear(in_features=128, out_features=10, bias=True)\n",
              ")"
            ]
          },
          "metadata": {},
          "execution_count": 10
        }
      ]
    },
    {
      "cell_type": "code",
      "source": [
        "lossfn = nn.CrossEntropyLoss()\n",
        "learning_rate = 0.1\n",
        "optim = torch.optim.SGD(model.parameters(), lr=learning_rate)\n",
        "scheduler = LambdaLR(optim, lr_lambda=lambda epoch: 0.95 ** epoch)"
      ],
      "metadata": {
        "id": "gFUY7xjjI7KO"
      },
      "execution_count": 11,
      "outputs": []
    },
    {
      "cell_type": "markdown",
      "source": [
        "# Step 5: Train"
      ],
      "metadata": {
        "id": "Nb42Lix4JC07"
      }
    },
    {
      "cell_type": "code",
      "source": [
        "def checkAcc():\n",
        "  correct = 0\n",
        "  total = 0\n",
        "\n",
        "  for images, labels in test_loader:\n",
        "    images = images.view(-1, seq_dim, input_dim).to(device)\n",
        "    labels = labels.to(device)\n",
        "\n",
        "    outputs = model(images)\n",
        "    _, predicted = torch.max(outputs.data, 1)\n",
        "    total += labels.size(0)\n",
        "    correct += (predicted == labels).sum()\n",
        "\n",
        "  return 100 * correct / total"
      ],
      "metadata": {
        "id": "FVfqt0KzKjdP"
      },
      "execution_count": 12,
      "outputs": []
    },
    {
      "cell_type": "code",
      "source": [
        "seq_dim = 28\n",
        "loss_list = []\n",
        "\n",
        "for epoch in range(num_epochs):\n",
        "  for i, (images, labels) in enumerate(train_loader):\n",
        "    images = images.view(-1, seq_dim, input_dim).to(device)\n",
        "    labels = labels.to(device)\n",
        "\n",
        "    # Clear gradients\n",
        "    optim.zero_grad()\n",
        "\n",
        "    # Forward pass\n",
        "    output = model(images)\n",
        "\n",
        "    # Calculate loss\n",
        "    loss = lossfn(output, labels)\n",
        "\n",
        "    # Backward pass\n",
        "    loss.backward()\n",
        "\n",
        "    # Update parameters\n",
        "    optim.step()\n",
        "\n",
        "    loss_list.append(loss.item())\n",
        "\n",
        "  acc = checkAcc()\n",
        "  print('epoch {}/{}. Loss: {}. ACC: {}'.format(epoch+1, num_epochs, loss.item(), acc))\n",
        "\n",
        "  scheduler.step()"
      ],
      "metadata": {
        "colab": {
          "base_uri": "https://localhost:8080/"
        },
        "id": "CdNnl59XJFFg",
        "outputId": "6a1b3c06-86a5-4c91-fe08-74bd2da8c0f9"
      },
      "execution_count": 13,
      "outputs": [
        {
          "output_type": "stream",
          "name": "stdout",
          "text": [
            "epoch 1/10. Loss: 2.1300947666168213. ACC: 24.1299991607666\n",
            "epoch 2/10. Loss: 0.6652718186378479. ACC: 77.54999542236328\n",
            "epoch 3/10. Loss: 0.34333038330078125. ACC: 90.19999694824219\n",
            "epoch 4/10. Loss: 0.32344990968704224. ACC: 94.25\n",
            "epoch 5/10. Loss: 0.37173813581466675. ACC: 94.7699966430664\n",
            "epoch 6/10. Loss: 0.16258786618709564. ACC: 95.8699951171875\n",
            "epoch 7/10. Loss: 0.11503539234399796. ACC: 96.62999725341797\n",
            "epoch 8/10. Loss: 0.045136112719774246. ACC: 97.04999542236328\n",
            "epoch 9/10. Loss: 0.14211852848529816. ACC: 97.18000030517578\n",
            "epoch 10/10. Loss: 0.24897977709770203. ACC: 97.33999633789062\n"
          ]
        }
      ]
    },
    {
      "cell_type": "code",
      "source": [
        "# Loss graph\n",
        "plt.plot(loss_list)\n",
        "plt.show()"
      ],
      "metadata": {
        "colab": {
          "base_uri": "https://localhost:8080/",
          "height": 430
        },
        "id": "Pu15Q6W2JsaQ",
        "outputId": "d162ba41-a8a9-4323-eb66-97ab3dfa787b"
      },
      "execution_count": 14,
      "outputs": [
        {
          "output_type": "display_data",
          "data": {
            "text/plain": [
              "<Figure size 640x480 with 1 Axes>"
            ],
            "image/png": "[encoded data removed]"
          },
          "metadata": {}
        }
      ]
    },
    {
      "cell_type": "code",
      "source": [
        "# Show img\n",
        "iter = 0\n",
        "for images, labels in test_loader:\n",
        "  images = images.view(-1, seq_dim, input_dim).to(device)\n",
        "  labels = labels.to(device)\n",
        "\n",
        "  outputs = model(images)\n",
        "  _, predicted = torch.max(outputs.data, 1)\n",
        "\n",
        "  plt.imshow(images[0].cpu().detach().numpy().reshape(28, 28), cmap='gray')\n",
        "  plt.title('Predicted: {}'.format(predicted[0].item()))\n",
        "  plt.show()\n",
        "  iter += 1\n",
        "  if iter == 5:\n",
        "    break"
      ],
      "metadata": {
        "colab": {
          "base_uri": "https://localhost:8080/",
          "height": 1000
        },
        "id": "h1XxXlUGQ2D7",
        "outputId": "d8a83be7-ae6d-4485-f650-c91361b83ffa"
      },
      "execution_count": 15,
      "outputs": [
        {
          "output_type": "display_data",
          "data": {
            "text/plain": [
              "<Figure size 640x480 with 1 Axes>"
            ],
            "image/png": "[encoded data removed]"
          },
          "metadata": {}
        },
        {
          "output_type": "display_data",
          "data": {
            "text/plain": [
              "<Figure size 640x480 with 1 Axes>"
            ],
            "image/png": "[encoded data removed]"
          },
          "metadata": {}
        },
        {
          "output_type": "display_data",
          "data": {
            "text/plain": [
              "<Figure size 640x480 with 1 Axes>"
            ],
            "image/png": "[encoded data removed]"
          },
          "metadata": {}
        },
        {
          "output_type": "display_data",
          "data": {
            "text/plain": [
              "<Figure size 640x480 with 1 Axes>"
            ],
            "image/png": "[encoded data removed]"
          },
          "metadata": {}
        },
        {
          "output_type": "display_data",
          "data": {
            "text/plain": [
              "<Figure size 640x480 with 1 Axes>"
            ],
            "image/png": "[encoded data removed]"
          },
          "metadata": {}
        }
      ]
    },
    {
      "cell_type": "code",
      "source": [],
      "metadata": {
        "id": "fmtvFpzIWjiG"
      },
      "execution_count": 15,
      "outputs": []
    }
  ]
}