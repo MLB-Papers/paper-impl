{
 "cells": [
  {
   "cell_type": "code",
   "execution_count": 1,
   "metadata": {},
   "outputs": [],
   "source": [
    "import torch\n",
    "import torch.nn as nn\n",
    "from tqdm import tqdm\n",
    "import torch.optim as optim\n",
    "import torchvision\n",
    "import torch.nn.functional as F\n",
    "import torchvision.transforms as transforms\n",
    "import matplotlib.pyplot as plt\n",
    "from torchsummary import summary"
   ]
  },
  {
   "cell_type": "code",
   "execution_count": 2,
   "metadata": {},
   "outputs": [],
   "source": [
    "class OverFeatAccurate(nn.Module):\n",
    "    def __init__(self, num_classes=100):\n",
    "        super(OverFeatAccurate, self).__init__()\n",
    "        self.conv1 = nn.Conv2d(3, 96, kernel_size=11, stride=4, padding=2)\n",
    "        self.conv2 = nn.Conv2d(96, 256, kernel_size=5, stride=1, padding=2)\n",
    "        self.conv3 = nn.Conv2d(256, 512, kernel_size=3, stride=1, padding=1)\n",
    "        self.conv4 = nn.Conv2d(512, 1024, kernel_size=3, stride=1, padding=1)\n",
    "        self.conv5 = nn.Conv2d(1024, 1024, kernel_size=3, stride=1, padding=1)\n",
    "\n",
    "        self.fc1 = nn.Linear(1024 * 7 * 7, 4096)\n",
    "        self.fc2 = nn.Linear(4096, 4096)\n",
    "        self.fc3 = nn.Linear(4096, num_classes)\n",
    "\n",
    "    def forward(self, x):\n",
    "        x = F.relu(self.conv1(x))\n",
    "        x = F.max_pool2d(x, kernel_size=3, stride=2, padding=1)\n",
    "\n",
    "        x = F.relu(self.conv2(x))\n",
    "        x = F.max_pool2d(x, kernel_size=3, stride=2, padding=1)\n",
    "\n",
    "        x = F.relu(self.conv3(x))\n",
    "        x = F.relu(self.conv4(x))\n",
    "        x = F.relu(self.conv5(x))\n",
    "        x = F.max_pool2d(x, kernel_size=3, stride=2, padding=1)\n",
    "\n",
    "        x = x.view(x.size(0), -1)\n",
    "        x = F.relu(self.fc1(x))\n",
    "        x = F.dropout(x, 0.5)\n",
    "        x = F.relu(self.fc2(x))\n",
    "        x = F.dropout(x, 0.5)\n",
    "        x = self.fc3(x)\n",
    "        return x\n",
    "\n",
    "\n",
    "class OverFeatFast(nn.Module):\n",
    "    def __init__(self, num_classes=100):\n",
    "        super(OverFeatFast, self).__init__()\n",
    "        self.conv1 = nn.Conv2d(3, 64, kernel_size=11, stride=4, padding=2)\n",
    "        self.conv2 = nn.Conv2d(64, 192, kernel_size=5, stride=1, padding=2)\n",
    "        self.conv3 = nn.Conv2d(192, 384, kernel_size=3, stride=1, padding=1)\n",
    "        self.conv4 = nn.Conv2d(384, 512, kernel_size=3, stride=1, padding=1)\n",
    "        self.conv5 = nn.Conv2d(512, 512, kernel_size=3, stride=1, padding=1)\n",
    "\n",
    "        self.fc1 = nn.Linear(512 * 7 * 7, 3072)\n",
    "        self.fc2 = nn.Linear(3072, 3072)\n",
    "        self.fc3 = nn.Linear(3072, num_classes)\n",
    "\n",
    "    def forward(self, x):\n",
    "        x = F.relu(self.conv1(x))\n",
    "        x = F.max_pool2d(x, kernel_size=3, stride=2, padding=1)\n",
    "        x = F.relu(self.conv2(x))\n",
    "        x = F.max_pool2d(x, kernel_size=3, stride=2, padding=1)\n",
    "        x = F.relu(self.conv3(x))\n",
    "        x = F.relu(self.conv4(x))\n",
    "        x = F.relu(self.conv5(x))\n",
    "        x = F.max_pool2d(x, kernel_size=3, stride=2, padding=1)\n",
    "        x = x.view(x.size(0), -1)\n",
    "        x = F.relu(self.fc1(x))\n",
    "        x = F.dropout(x, 0.5)\n",
    "        x = F.relu(self.fc2(x))\n",
    "        x = F.dropout(x, 0.5)\n",
    "        x = self.fc3(x)\n",
    "        return x"
   ]
  },
  {
   "cell_type": "code",
   "execution_count": 3,
   "metadata": {},
   "outputs": [],
   "source": [
    "transform = transforms.Compose(\n",
    "    [\n",
    "        transforms.Resize((224, 224)),\n",
    "        transforms.ToTensor(),\n",
    "        transforms.Normalize((0.5, 0.5, 0.5), (0.5, 0.5, 0.5)),\n",
    "    ]\n",
    ")"
   ]
  },
  {
   "cell_type": "code",
   "execution_count": 4,
   "metadata": {},
   "outputs": [
    {
     "name": "stdout",
     "output_type": "stream",
     "text": [
      "Files already downloaded and verified\n",
      "Files already downloaded and verified\n"
     ]
    }
   ],
   "source": [
    "trainset = torchvision.datasets.CIFAR100(\n",
    "    root=\"./data\", train=True, download=True, transform=transform\n",
    ")\n",
    "trainloader = torch.utils.data.DataLoader(\n",
    "    trainset, batch_size=64, shuffle=True, num_workers=2\n",
    ")\n",
    "\n",
    "testset = torchvision.datasets.CIFAR100(\n",
    "    root=\"./data\", train=False, download=True, transform=transform\n",
    ")\n",
    "testloader = torch.utils.data.DataLoader(\n",
    "    testset, batch_size=64, shuffle=False, num_workers=2\n",
    ")"
   ]
  },
  {
   "cell_type": "code",
   "execution_count": 5,
   "metadata": {},
   "outputs": [],
   "source": [
    "device = torch.device(\"cuda\" if torch.cuda.is_available() else \"cpu\")"
   ]
  },
  {
   "cell_type": "code",
   "execution_count": 6,
   "metadata": {},
   "outputs": [],
   "source": [
    "accurate_model = OverFeatAccurate(num_classes=100).to(device)\n",
    "fast_model = OverFeatFast(num_classes=100).to(device)"
   ]
  },
  {
   "cell_type": "code",
   "execution_count": 7,
   "metadata": {},
   "outputs": [
    {
     "name": "stdout",
     "output_type": "stream",
     "text": [
      "Accurate Model Summary:\n",
      "----------------------------------------------------------------\n",
      "        Layer (type)               Output Shape         Param #\n",
      "================================================================\n",
      "            Conv2d-1           [-1, 96, 55, 55]          34,944\n",
      "            Conv2d-2          [-1, 256, 28, 28]         614,656\n",
      "            Conv2d-3          [-1, 512, 14, 14]       1,180,160\n",
      "            Conv2d-4         [-1, 1024, 14, 14]       4,719,616\n",
      "            Conv2d-5         [-1, 1024, 14, 14]       9,438,208\n",
      "            Linear-6                 [-1, 4096]     205,524,992\n",
      "            Linear-7                 [-1, 4096]      16,781,312\n",
      "            Linear-8                  [-1, 100]         409,700\n",
      "================================================================\n",
      "Total params: 238,703,588\n",
      "Trainable params: 238,703,588\n",
      "Non-trainable params: 0\n",
      "----------------------------------------------------------------\n",
      "Input size (MB): 0.57\n",
      "Forward/backward pass size (MB): 7.64\n",
      "Params size (MB): 910.58\n",
      "Estimated Total Size (MB): 918.79\n",
      "----------------------------------------------------------------\n"
     ]
    }
   ],
   "source": [
    "print(\"Accurate Model Summary:\")\n",
    "summary(accurate_model, input_size=(3, 224, 224), device=str(device))"
   ]
  },
  {
   "cell_type": "code",
   "execution_count": 8,
   "metadata": {},
   "outputs": [
    {
     "name": "stdout",
     "output_type": "stream",
     "text": [
      "\n",
      "Fast Model Summary:\n",
      "----------------------------------------------------------------\n",
      "        Layer (type)               Output Shape         Param #\n",
      "================================================================\n",
      "            Conv2d-1           [-1, 64, 55, 55]          23,296\n",
      "            Conv2d-2          [-1, 192, 28, 28]         307,392\n",
      "            Conv2d-3          [-1, 384, 14, 14]         663,936\n",
      "            Conv2d-4          [-1, 512, 14, 14]       1,769,984\n",
      "            Conv2d-5          [-1, 512, 14, 14]       2,359,808\n",
      "            Linear-6                 [-1, 3072]      77,073,408\n",
      "            Linear-7                 [-1, 3072]       9,440,256\n",
      "            Linear-8                  [-1, 100]         307,300\n",
      "================================================================\n",
      "Total params: 91,945,380\n",
      "Trainable params: 91,945,380\n",
      "Non-trainable params: 0\n",
      "----------------------------------------------------------------\n",
      "Input size (MB): 0.57\n",
      "Forward/backward pass size (MB): 4.78\n",
      "Params size (MB): 350.74\n",
      "Estimated Total Size (MB): 356.10\n",
      "----------------------------------------------------------------\n"
     ]
    }
   ],
   "source": [
    "print(\"\\nFast Model Summary:\")\n",
    "summary(fast_model, input_size=(3, 224, 224), device=str(device))"
   ]
  },
  {
   "cell_type": "code",
   "execution_count": 9,
   "metadata": {},
   "outputs": [],
   "source": [
    "criterion = nn.CrossEntropyLoss()"
   ]
  },
  {
   "cell_type": "code",
   "execution_count": 10,
   "metadata": {},
   "outputs": [],
   "source": [
    "def train(model, optimizer, num_epochs=10):\n",
    "    model.to(device)\n",
    "    loss_values = []\n",
    "    accuracy_values = []\n",
    "\n",
    "    for epoch in range(num_epochs):\n",
    "        running_loss = 0.0\n",
    "        correct = 0\n",
    "        total = 0\n",
    "\n",
    "        model.train()\n",
    "        progress_bar = tqdm(\n",
    "            enumerate(trainloader, 0),\n",
    "            total=len(trainloader),\n",
    "            desc=f\"Epoch {epoch+1}/{num_epochs}\",\n",
    "        )\n",
    "        for i, data in enumerate(trainloader, 0):\n",
    "            inputs, labels = data\n",
    "            inputs, labels = inputs.to(device), labels.to(device)\n",
    "\n",
    "            optimizer.zero_grad()\n",
    "\n",
    "            outputs = model(inputs)\n",
    "            loss = criterion(outputs, labels)\n",
    "            loss.backward()\n",
    "            optimizer.step()\n",
    "\n",
    "            running_loss += loss.item()\n",
    "            _, predicted = torch.max(outputs.data, 1)\n",
    "            total += labels.size(0)\n",
    "            correct += (predicted == labels).sum().item()\n",
    "\n",
    "            progress_bar.set_postfix(\n",
    "                loss=running_loss / (i + 1), accuracy=100 * correct / total\n",
    "            )\n",
    "\n",
    "        loss_values.append(running_loss / len(trainloader))\n",
    "        accuracy_values.append(100 * correct / total)\n",
    "        print(\n",
    "            f\"Epoch [{epoch + 1}/{num_epochs}], Loss: {running_loss / len(trainloader):.4f}, Accuracy: {100 * correct / total:.2f}%\"\n",
    "        )\n",
    "\n",
    "    return loss_values, accuracy_values"
   ]
  },
  {
   "cell_type": "code",
   "execution_count": 11,
   "metadata": {},
   "outputs": [
    {
     "name": "stderr",
     "output_type": "stream",
     "text": [
      "Epoch 1/100:   0%|          | 0/782 [01:17<?, ?it/s, accuracy=2.62, loss=4.44] "
     ]
    },
    {
     "name": "stdout",
     "output_type": "stream",
     "text": [
      "Epoch [1/100], Loss: 4.4435, Accuracy: 2.62%\n"
     ]
    },
    {
     "name": "stderr",
     "output_type": "stream",
     "text": [
      "Epoch 1/100:   0%|          | 0/782 [01:22<?, ?it/s, accuracy=2.62, loss=4.44]\n"
     ]
    },
    {
     "name": "stdout",
     "output_type": "stream",
     "text": [
      "Epoch [2/100], Loss: 3.8188, Accuracy: 10.34%\n"
     ]
    },
    {
     "name": "stderr",
     "output_type": "stream",
     "text": [
      "Epoch 2/100:   0%|          | 0/782 [01:21<?, ?it/s, accuracy=10.3, loss=3.82]\n",
      "Epoch 3/100:   0%|          | 0/782 [01:16<?, ?it/s, accuracy=19.9, loss=3.28]"
     ]
    },
    {
     "name": "stdout",
     "output_type": "stream",
     "text": [
      "Epoch [3/100], Loss: 3.2816, Accuracy: 19.94%\n"
     ]
    },
    {
     "name": "stderr",
     "output_type": "stream",
     "text": [
      "Epoch 3/100:   0%|          | 0/782 [01:21<?, ?it/s, accuracy=19.9, loss=3.28]\n"
     ]
    },
    {
     "name": "stdout",
     "output_type": "stream",
     "text": [
      "Epoch [4/100], Loss: 2.8154, Accuracy: 29.25%\n"
     ]
    },
    {
     "name": "stderr",
     "output_type": "stream",
     "text": [
      "Epoch 4/100:   0%|          | 0/782 [01:22<?, ?it/s, accuracy=29.3, loss=2.82]\n",
      "Epoch 5/100:   0%|          | 0/782 [01:16<?, ?it/s, accuracy=38, loss=2.4]   "
     ]
    },
    {
     "name": "stdout",
     "output_type": "stream",
     "text": [
      "Epoch [5/100], Loss: 2.3991, Accuracy: 37.99%\n"
     ]
    },
    {
     "name": "stderr",
     "output_type": "stream",
     "text": [
      "Epoch 5/100:   0%|          | 0/782 [01:21<?, ?it/s, accuracy=38, loss=2.4]\n"
     ]
    },
    {
     "name": "stdout",
     "output_type": "stream",
     "text": [
      "Epoch [6/100], Loss: 2.0212, Accuracy: 45.86%\n"
     ]
    },
    {
     "name": "stderr",
     "output_type": "stream",
     "text": [
      "Epoch 6/100:   0%|          | 0/782 [01:22<?, ?it/s, accuracy=45.9, loss=2.02]\n",
      "Epoch 7/100:   0%|          | 0/782 [01:16<?, ?it/s, accuracy=54.6, loss=1.66]"
     ]
    },
    {
     "name": "stdout",
     "output_type": "stream",
     "text": [
      "Epoch [7/100], Loss: 1.6559, Accuracy: 54.59%\n"
     ]
    },
    {
     "name": "stderr",
     "output_type": "stream",
     "text": [
      "Epoch 7/100:   0%|          | 0/782 [01:21<?, ?it/s, accuracy=54.6, loss=1.66]\n"
     ]
    },
    {
     "name": "stdout",
     "output_type": "stream",
     "text": [
      "Epoch [8/100], Loss: 1.2941, Accuracy: 63.37%\n"
     ]
    },
    {
     "name": "stderr",
     "output_type": "stream",
     "text": [
      "Epoch 8/100:   0%|          | 0/782 [01:22<?, ?it/s, accuracy=63.4, loss=1.29]\n",
      "Epoch 9/100:   0%|          | 0/782 [01:16<?, ?it/s, accuracy=71.9, loss=0.966]"
     ]
    },
    {
     "name": "stdout",
     "output_type": "stream",
     "text": [
      "Epoch [9/100], Loss: 0.9664, Accuracy: 71.87%\n"
     ]
    },
    {
     "name": "stderr",
     "output_type": "stream",
     "text": [
      "Epoch 9/100:   0%|          | 0/782 [01:21<?, ?it/s, accuracy=71.9, loss=0.966]\n"
     ]
    },
    {
     "name": "stdout",
     "output_type": "stream",
     "text": [
      "Epoch [10/100], Loss: 0.7212, Accuracy: 78.64%\n"
     ]
    },
    {
     "name": "stderr",
     "output_type": "stream",
     "text": [
      "Epoch 10/100:   0%|          | 0/782 [01:22<?, ?it/s, accuracy=78.6, loss=0.721]\n",
      "Epoch 11/100:   0%|          | 0/782 [01:16<?, ?it/s, accuracy=83.4, loss=0.552]"
     ]
    },
    {
     "name": "stdout",
     "output_type": "stream",
     "text": [
      "Epoch [11/100], Loss: 0.5519, Accuracy: 83.37%\n"
     ]
    },
    {
     "name": "stderr",
     "output_type": "stream",
     "text": [
      "Epoch 11/100:   0%|          | 0/782 [01:21<?, ?it/s, accuracy=83.4, loss=0.552]\n"
     ]
    },
    {
     "name": "stdout",
     "output_type": "stream",
     "text": [
      "Epoch [12/100], Loss: 0.4543, Accuracy: 86.49%\n"
     ]
    },
    {
     "name": "stderr",
     "output_type": "stream",
     "text": [
      "Epoch 12/100:   0%|          | 0/782 [01:22<?, ?it/s, accuracy=86.5, loss=0.454]\n",
      "Epoch 13/100:   0%|          | 0/782 [01:16<?, ?it/s, accuracy=88.6, loss=0.376]"
     ]
    },
    {
     "name": "stdout",
     "output_type": "stream",
     "text": [
      "Epoch [13/100], Loss: 0.3761, Accuracy: 88.64%\n"
     ]
    },
    {
     "name": "stderr",
     "output_type": "stream",
     "text": [
      "Epoch 13/100:   0%|          | 0/782 [01:21<?, ?it/s, accuracy=88.6, loss=0.376]\n"
     ]
    },
    {
     "name": "stdout",
     "output_type": "stream",
     "text": [
      "Epoch [14/100], Loss: 0.3363, Accuracy: 90.10%\n"
     ]
    },
    {
     "name": "stderr",
     "output_type": "stream",
     "text": [
      "Epoch 14/100:   0%|          | 0/782 [01:21<?, ?it/s, accuracy=90.1, loss=0.336]\n",
      "Epoch 15/100:   0%|          | 0/782 [01:16<?, ?it/s, accuracy=92, loss=0.274]  "
     ]
    },
    {
     "name": "stdout",
     "output_type": "stream",
     "text": [
      "Epoch [15/100], Loss: 0.2740, Accuracy: 91.98%\n"
     ]
    },
    {
     "name": "stderr",
     "output_type": "stream",
     "text": [
      "Epoch 15/100:   0%|          | 0/782 [01:21<?, ?it/s, accuracy=92, loss=0.274]\n"
     ]
    },
    {
     "name": "stdout",
     "output_type": "stream",
     "text": [
      "Epoch [16/100], Loss: 0.2379, Accuracy: 93.08%\n"
     ]
    },
    {
     "name": "stderr",
     "output_type": "stream",
     "text": [
      "Epoch 16/100:   0%|          | 0/782 [01:22<?, ?it/s, accuracy=93.1, loss=0.238]\n",
      "Epoch 17/100:   0%|          | 0/782 [01:16<?, ?it/s, accuracy=93.9, loss=0.208] "
     ]
    },
    {
     "name": "stdout",
     "output_type": "stream",
     "text": [
      "Epoch [17/100], Loss: 0.2082, Accuracy: 93.93%\n"
     ]
    },
    {
     "name": "stderr",
     "output_type": "stream",
     "text": [
      "Epoch 17/100:   0%|          | 0/782 [01:21<?, ?it/s, accuracy=93.9, loss=0.208]\n"
     ]
    },
    {
     "name": "stdout",
     "output_type": "stream",
     "text": [
      "Epoch [18/100], Loss: 0.2006, Accuracy: 94.22%\n"
     ]
    },
    {
     "name": "stderr",
     "output_type": "stream",
     "text": [
      "Epoch 18/100:   0%|          | 0/782 [01:22<?, ?it/s, accuracy=94.2, loss=0.201]\n",
      "Epoch 19/100:   0%|          | 0/782 [01:16<?, ?it/s, accuracy=95, loss=0.177]  "
     ]
    },
    {
     "name": "stdout",
     "output_type": "stream",
     "text": [
      "Epoch [19/100], Loss: 0.1766, Accuracy: 94.99%\n"
     ]
    },
    {
     "name": "stderr",
     "output_type": "stream",
     "text": [
      "Epoch 19/100:   0%|          | 0/782 [01:21<?, ?it/s, accuracy=95, loss=0.177]\n"
     ]
    },
    {
     "name": "stdout",
     "output_type": "stream",
     "text": [
      "Epoch [20/100], Loss: 0.1828, Accuracy: 94.74%\n"
     ]
    },
    {
     "name": "stderr",
     "output_type": "stream",
     "text": [
      "Epoch 20/100:   0%|          | 0/782 [01:22<?, ?it/s, accuracy=94.7, loss=0.183]\n",
      "Epoch 21/100:   0%|          | 0/782 [01:16<?, ?it/s, accuracy=95.7, loss=0.15] "
     ]
    },
    {
     "name": "stdout",
     "output_type": "stream",
     "text": [
      "Epoch [21/100], Loss: 0.1497, Accuracy: 95.65%\n"
     ]
    },
    {
     "name": "stderr",
     "output_type": "stream",
     "text": [
      "Epoch 21/100:   0%|          | 0/782 [01:21<?, ?it/s, accuracy=95.7, loss=0.15]\n"
     ]
    },
    {
     "name": "stdout",
     "output_type": "stream",
     "text": [
      "Epoch [22/100], Loss: 0.1563, Accuracy: 95.52%\n"
     ]
    },
    {
     "name": "stderr",
     "output_type": "stream",
     "text": [
      "Epoch 22/100:   0%|          | 0/782 [01:22<?, ?it/s, accuracy=95.5, loss=0.156]\n",
      "Epoch 23/100:   0%|          | 0/782 [01:17<?, ?it/s, accuracy=95.9, loss=0.147]"
     ]
    },
    {
     "name": "stdout",
     "output_type": "stream",
     "text": [
      "Epoch [23/100], Loss: 0.1466, Accuracy: 95.90%\n"
     ]
    },
    {
     "name": "stderr",
     "output_type": "stream",
     "text": [
      "Epoch 23/100:   0%|          | 0/782 [01:22<?, ?it/s, accuracy=95.9, loss=0.147]\n"
     ]
    },
    {
     "name": "stdout",
     "output_type": "stream",
     "text": [
      "Epoch [24/100], Loss: 0.1352, Accuracy: 96.13%\n"
     ]
    },
    {
     "name": "stderr",
     "output_type": "stream",
     "text": [
      "Epoch 24/100:   0%|          | 0/782 [01:22<?, ?it/s, accuracy=96.1, loss=0.135]\n",
      "Epoch 25/100:   0%|          | 0/782 [01:16<?, ?it/s, accuracy=96.3, loss=0.132] "
     ]
    },
    {
     "name": "stdout",
     "output_type": "stream",
     "text": [
      "Epoch [25/100], Loss: 0.1321, Accuracy: 96.28%\n"
     ]
    },
    {
     "name": "stderr",
     "output_type": "stream",
     "text": [
      "Epoch 25/100:   0%|          | 0/782 [01:21<?, ?it/s, accuracy=96.3, loss=0.132]\n"
     ]
    },
    {
     "name": "stdout",
     "output_type": "stream",
     "text": [
      "Epoch [26/100], Loss: 0.1231, Accuracy: 96.63%\n"
     ]
    },
    {
     "name": "stderr",
     "output_type": "stream",
     "text": [
      "Epoch 26/100:   0%|          | 0/782 [01:22<?, ?it/s, accuracy=96.6, loss=0.123]\n",
      "Epoch 27/100:   0%|          | 0/782 [01:16<?, ?it/s, accuracy=96.7, loss=0.12]  "
     ]
    },
    {
     "name": "stdout",
     "output_type": "stream",
     "text": [
      "Epoch [27/100], Loss: 0.1198, Accuracy: 96.65%\n"
     ]
    },
    {
     "name": "stderr",
     "output_type": "stream",
     "text": [
      "Epoch 27/100:   0%|          | 0/782 [01:21<?, ?it/s, accuracy=96.7, loss=0.12]\n"
     ]
    },
    {
     "name": "stdout",
     "output_type": "stream",
     "text": [
      "Epoch [28/100], Loss: 0.1087, Accuracy: 96.94%\n"
     ]
    },
    {
     "name": "stderr",
     "output_type": "stream",
     "text": [
      "Epoch 28/100:   0%|          | 0/782 [01:22<?, ?it/s, accuracy=96.9, loss=0.109]\n",
      "Epoch 29/100:   0%|          | 0/782 [01:16<?, ?it/s, accuracy=97.1, loss=0.107] "
     ]
    },
    {
     "name": "stdout",
     "output_type": "stream",
     "text": [
      "Epoch [29/100], Loss: 0.1075, Accuracy: 97.14%\n"
     ]
    },
    {
     "name": "stderr",
     "output_type": "stream",
     "text": [
      "Epoch 29/100:   0%|          | 0/782 [01:21<?, ?it/s, accuracy=97.1, loss=0.107]\n"
     ]
    },
    {
     "name": "stdout",
     "output_type": "stream",
     "text": [
      "Epoch [30/100], Loss: 0.1083, Accuracy: 96.97%\n"
     ]
    },
    {
     "name": "stderr",
     "output_type": "stream",
     "text": [
      "Epoch 30/100:   0%|          | 0/782 [01:22<?, ?it/s, accuracy=97, loss=0.108]\n",
      "Epoch 31/100:   0%|          | 0/782 [01:16<?, ?it/s, accuracy=97.1, loss=0.106] "
     ]
    },
    {
     "name": "stdout",
     "output_type": "stream",
     "text": [
      "Epoch [31/100], Loss: 0.1061, Accuracy: 97.06%\n"
     ]
    },
    {
     "name": "stderr",
     "output_type": "stream",
     "text": [
      "Epoch 31/100:   0%|          | 0/782 [01:21<?, ?it/s, accuracy=97.1, loss=0.106]\n"
     ]
    },
    {
     "name": "stdout",
     "output_type": "stream",
     "text": [
      "Epoch [32/100], Loss: 0.1027, Accuracy: 97.09%\n"
     ]
    },
    {
     "name": "stderr",
     "output_type": "stream",
     "text": [
      "Epoch 32/100:   0%|          | 0/782 [01:22<?, ?it/s, accuracy=97.1, loss=0.103]\n",
      "Epoch 33/100:   0%|          | 0/782 [01:16<?, ?it/s, accuracy=97, loss=0.109]   "
     ]
    },
    {
     "name": "stdout",
     "output_type": "stream",
     "text": [
      "Epoch [33/100], Loss: 0.1087, Accuracy: 97.04%\n"
     ]
    },
    {
     "name": "stderr",
     "output_type": "stream",
     "text": [
      "Epoch 33/100:   0%|          | 0/782 [01:21<?, ?it/s, accuracy=97, loss=0.109]\n"
     ]
    },
    {
     "name": "stdout",
     "output_type": "stream",
     "text": [
      "Epoch [34/100], Loss: 0.0942, Accuracy: 97.37%\n"
     ]
    },
    {
     "name": "stderr",
     "output_type": "stream",
     "text": [
      "Epoch 34/100:   0%|          | 0/782 [01:21<?, ?it/s, accuracy=97.4, loss=0.0942]\n",
      "Epoch 35/100:   0%|          | 0/782 [01:16<?, ?it/s, accuracy=97.5, loss=0.0906]"
     ]
    },
    {
     "name": "stdout",
     "output_type": "stream",
     "text": [
      "Epoch [35/100], Loss: 0.0906, Accuracy: 97.47%\n"
     ]
    },
    {
     "name": "stderr",
     "output_type": "stream",
     "text": [
      "Epoch 35/100:   0%|          | 0/782 [01:21<?, ?it/s, accuracy=97.5, loss=0.0906]\n"
     ]
    },
    {
     "name": "stdout",
     "output_type": "stream",
     "text": [
      "Epoch [36/100], Loss: 0.0949, Accuracy: 97.43%\n"
     ]
    },
    {
     "name": "stderr",
     "output_type": "stream",
     "text": [
      "Epoch 36/100:   0%|          | 0/782 [01:21<?, ?it/s, accuracy=97.4, loss=0.0949]\n",
      "Epoch 37/100:   0%|          | 0/782 [01:16<?, ?it/s, accuracy=97.3, loss=0.0954]"
     ]
    },
    {
     "name": "stdout",
     "output_type": "stream",
     "text": [
      "Epoch [37/100], Loss: 0.0954, Accuracy: 97.32%\n"
     ]
    },
    {
     "name": "stderr",
     "output_type": "stream",
     "text": [
      "Epoch 37/100:   0%|          | 0/782 [01:21<?, ?it/s, accuracy=97.3, loss=0.0954]\n"
     ]
    },
    {
     "name": "stdout",
     "output_type": "stream",
     "text": [
      "Epoch [38/100], Loss: 0.0972, Accuracy: 97.34%\n"
     ]
    },
    {
     "name": "stderr",
     "output_type": "stream",
     "text": [
      "Epoch 38/100:   0%|          | 0/782 [01:21<?, ?it/s, accuracy=97.3, loss=0.0972]\n",
      "Epoch 39/100:   0%|          | 0/782 [01:16<?, ?it/s, accuracy=97.1, loss=0.105] "
     ]
    },
    {
     "name": "stdout",
     "output_type": "stream",
     "text": [
      "Epoch [39/100], Loss: 0.1052, Accuracy: 97.13%\n"
     ]
    },
    {
     "name": "stderr",
     "output_type": "stream",
     "text": [
      "Epoch 39/100:   0%|          | 0/782 [01:21<?, ?it/s, accuracy=97.1, loss=0.105]\n"
     ]
    },
    {
     "name": "stdout",
     "output_type": "stream",
     "text": [
      "Epoch [40/100], Loss: 0.0991, Accuracy: 97.31%\n"
     ]
    },
    {
     "name": "stderr",
     "output_type": "stream",
     "text": [
      "Epoch 40/100:   0%|          | 0/782 [01:21<?, ?it/s, accuracy=97.3, loss=0.0991]\n",
      "Epoch 41/100:   0%|          | 0/782 [01:16<?, ?it/s, accuracy=97.7, loss=0.0894]"
     ]
    },
    {
     "name": "stdout",
     "output_type": "stream",
     "text": [
      "Epoch [41/100], Loss: 0.0894, Accuracy: 97.68%\n"
     ]
    },
    {
     "name": "stderr",
     "output_type": "stream",
     "text": [
      "Epoch 41/100:   0%|          | 0/782 [01:21<?, ?it/s, accuracy=97.7, loss=0.0894]\n"
     ]
    },
    {
     "name": "stdout",
     "output_type": "stream",
     "text": [
      "Epoch [42/100], Loss: 0.1007, Accuracy: 97.34%\n"
     ]
    },
    {
     "name": "stderr",
     "output_type": "stream",
     "text": [
      "Epoch 42/100:   0%|          | 0/782 [01:22<?, ?it/s, accuracy=97.3, loss=0.101]\n",
      "Epoch 43/100:   0%|          | 0/782 [01:16<?, ?it/s, accuracy=97.3, loss=0.0994]"
     ]
    },
    {
     "name": "stdout",
     "output_type": "stream",
     "text": [
      "Epoch [43/100], Loss: 0.0994, Accuracy: 97.28%\n"
     ]
    },
    {
     "name": "stderr",
     "output_type": "stream",
     "text": [
      "Epoch 43/100:   0%|          | 0/782 [01:21<?, ?it/s, accuracy=97.3, loss=0.0994]\n"
     ]
    },
    {
     "name": "stdout",
     "output_type": "stream",
     "text": [
      "Epoch [44/100], Loss: 0.1002, Accuracy: 97.36%\n"
     ]
    },
    {
     "name": "stderr",
     "output_type": "stream",
     "text": [
      "Epoch 44/100:   0%|          | 0/782 [01:21<?, ?it/s, accuracy=97.4, loss=0.1]\n",
      "Epoch 45/100:   0%|          | 0/782 [01:16<?, ?it/s, accuracy=97.5, loss=0.0926]"
     ]
    },
    {
     "name": "stdout",
     "output_type": "stream",
     "text": [
      "Epoch [45/100], Loss: 0.0926, Accuracy: 97.53%\n"
     ]
    },
    {
     "name": "stderr",
     "output_type": "stream",
     "text": [
      "Epoch 45/100:   0%|          | 0/782 [01:21<?, ?it/s, accuracy=97.5, loss=0.0926]\n"
     ]
    },
    {
     "name": "stdout",
     "output_type": "stream",
     "text": [
      "Epoch [46/100], Loss: 0.0933, Accuracy: 97.53%\n"
     ]
    },
    {
     "name": "stderr",
     "output_type": "stream",
     "text": [
      "Epoch 46/100:   0%|          | 0/782 [01:22<?, ?it/s, accuracy=97.5, loss=0.0933]\n",
      "Epoch 47/100:   0%|          | 0/782 [01:16<?, ?it/s, accuracy=97.5, loss=0.0959]"
     ]
    },
    {
     "name": "stdout",
     "output_type": "stream",
     "text": [
      "Epoch [47/100], Loss: 0.0959, Accuracy: 97.48%\n"
     ]
    },
    {
     "name": "stderr",
     "output_type": "stream",
     "text": [
      "Epoch 47/100:   0%|          | 0/782 [01:21<?, ?it/s, accuracy=97.5, loss=0.0959]\n"
     ]
    },
    {
     "name": "stdout",
     "output_type": "stream",
     "text": [
      "Epoch [48/100], Loss: 0.0878, Accuracy: 97.66%\n"
     ]
    },
    {
     "name": "stderr",
     "output_type": "stream",
     "text": [
      "Epoch 48/100:   0%|          | 0/782 [01:22<?, ?it/s, accuracy=97.7, loss=0.0878]\n",
      "Epoch 49/100:   0%|          | 0/782 [01:16<?, ?it/s, accuracy=97.5, loss=0.0947]"
     ]
    },
    {
     "name": "stdout",
     "output_type": "stream",
     "text": [
      "Epoch [49/100], Loss: 0.0947, Accuracy: 97.50%\n"
     ]
    },
    {
     "name": "stderr",
     "output_type": "stream",
     "text": [
      "Epoch 49/100:   0%|          | 0/782 [01:21<?, ?it/s, accuracy=97.5, loss=0.0947]\n"
     ]
    },
    {
     "name": "stdout",
     "output_type": "stream",
     "text": [
      "Epoch [50/100], Loss: 0.0930, Accuracy: 97.62%\n"
     ]
    },
    {
     "name": "stderr",
     "output_type": "stream",
     "text": [
      "Epoch 50/100:   0%|          | 0/782 [01:21<?, ?it/s, accuracy=97.6, loss=0.093]\n",
      "Epoch 51/100:   0%|          | 0/782 [01:16<?, ?it/s, accuracy=97.8, loss=0.0811]"
     ]
    },
    {
     "name": "stdout",
     "output_type": "stream",
     "text": [
      "Epoch [51/100], Loss: 0.0811, Accuracy: 97.85%\n"
     ]
    },
    {
     "name": "stderr",
     "output_type": "stream",
     "text": [
      "Epoch 51/100:   0%|          | 0/782 [01:21<?, ?it/s, accuracy=97.8, loss=0.0811]\n"
     ]
    },
    {
     "name": "stdout",
     "output_type": "stream",
     "text": [
      "Epoch [52/100], Loss: 0.0954, Accuracy: 97.51%\n"
     ]
    },
    {
     "name": "stderr",
     "output_type": "stream",
     "text": [
      "Epoch 52/100:   0%|          | 0/782 [01:21<?, ?it/s, accuracy=97.5, loss=0.0954]\n",
      "Epoch 53/100:   0%|          | 0/782 [01:16<?, ?it/s, accuracy=97.5, loss=0.096] "
     ]
    },
    {
     "name": "stdout",
     "output_type": "stream",
     "text": [
      "Epoch [53/100], Loss: 0.0960, Accuracy: 97.54%\n"
     ]
    },
    {
     "name": "stderr",
     "output_type": "stream",
     "text": [
      "Epoch 53/100:   0%|          | 0/782 [01:21<?, ?it/s, accuracy=97.5, loss=0.096]\n"
     ]
    },
    {
     "name": "stdout",
     "output_type": "stream",
     "text": [
      "Epoch [54/100], Loss: 0.0931, Accuracy: 97.69%\n"
     ]
    },
    {
     "name": "stderr",
     "output_type": "stream",
     "text": [
      "Epoch 54/100:   0%|          | 0/782 [01:22<?, ?it/s, accuracy=97.7, loss=0.0931]\n",
      "Epoch 55/100:   0%|          | 0/782 [01:16<?, ?it/s, accuracy=97.5, loss=0.0985]"
     ]
    },
    {
     "name": "stdout",
     "output_type": "stream",
     "text": [
      "Epoch [55/100], Loss: 0.0985, Accuracy: 97.47%\n"
     ]
    },
    {
     "name": "stderr",
     "output_type": "stream",
     "text": [
      "Epoch 55/100:   0%|          | 0/782 [01:21<?, ?it/s, accuracy=97.5, loss=0.0985]\n"
     ]
    },
    {
     "name": "stdout",
     "output_type": "stream",
     "text": [
      "Epoch [56/100], Loss: 0.1026, Accuracy: 97.35%\n"
     ]
    },
    {
     "name": "stderr",
     "output_type": "stream",
     "text": [
      "Epoch 56/100:   0%|          | 0/782 [01:22<?, ?it/s, accuracy=97.4, loss=0.103]\n",
      "Epoch 57/100:   0%|          | 0/782 [01:16<?, ?it/s, accuracy=97.5, loss=0.0938]"
     ]
    },
    {
     "name": "stdout",
     "output_type": "stream",
     "text": [
      "Epoch [57/100], Loss: 0.0938, Accuracy: 97.54%\n"
     ]
    },
    {
     "name": "stderr",
     "output_type": "stream",
     "text": [
      "Epoch 57/100:   0%|          | 0/782 [01:21<?, ?it/s, accuracy=97.5, loss=0.0938]\n"
     ]
    },
    {
     "name": "stdout",
     "output_type": "stream",
     "text": [
      "Epoch [58/100], Loss: 0.0896, Accuracy: 97.69%\n"
     ]
    },
    {
     "name": "stderr",
     "output_type": "stream",
     "text": [
      "Epoch 58/100:   0%|          | 0/782 [01:22<?, ?it/s, accuracy=97.7, loss=0.0896]\n",
      "Epoch 59/100:   0%|          | 0/782 [01:16<?, ?it/s, accuracy=97.8, loss=0.0825]"
     ]
    },
    {
     "name": "stdout",
     "output_type": "stream",
     "text": [
      "Epoch [59/100], Loss: 0.0825, Accuracy: 97.83%\n"
     ]
    },
    {
     "name": "stderr",
     "output_type": "stream",
     "text": [
      "Epoch 59/100:   0%|          | 0/782 [01:21<?, ?it/s, accuracy=97.8, loss=0.0825]\n"
     ]
    },
    {
     "name": "stdout",
     "output_type": "stream",
     "text": [
      "Epoch [60/100], Loss: 0.0870, Accuracy: 97.75%\n"
     ]
    },
    {
     "name": "stderr",
     "output_type": "stream",
     "text": [
      "Epoch 60/100:   0%|          | 0/782 [01:22<?, ?it/s, accuracy=97.7, loss=0.087]\n",
      "Epoch 61/100:   0%|          | 0/782 [01:16<?, ?it/s, accuracy=97.3, loss=0.115] "
     ]
    },
    {
     "name": "stdout",
     "output_type": "stream",
     "text": [
      "Epoch [61/100], Loss: 0.1155, Accuracy: 97.30%\n"
     ]
    },
    {
     "name": "stderr",
     "output_type": "stream",
     "text": [
      "Epoch 61/100:   0%|          | 0/782 [01:21<?, ?it/s, accuracy=97.3, loss=0.115]\n"
     ]
    },
    {
     "name": "stdout",
     "output_type": "stream",
     "text": [
      "Epoch [62/100], Loss: 0.1047, Accuracy: 97.36%\n"
     ]
    },
    {
     "name": "stderr",
     "output_type": "stream",
     "text": [
      "Epoch 62/100:   0%|          | 0/782 [01:21<?, ?it/s, accuracy=97.4, loss=0.105]\n",
      "Epoch 63/100:   0%|          | 0/782 [01:16<?, ?it/s, accuracy=97, loss=0.116]   "
     ]
    },
    {
     "name": "stdout",
     "output_type": "stream",
     "text": [
      "Epoch [63/100], Loss: 0.1161, Accuracy: 97.04%\n"
     ]
    },
    {
     "name": "stderr",
     "output_type": "stream",
     "text": [
      "Epoch 63/100:   0%|          | 0/782 [01:21<?, ?it/s, accuracy=97, loss=0.116]\n"
     ]
    },
    {
     "name": "stdout",
     "output_type": "stream",
     "text": [
      "Epoch [64/100], Loss: 0.1302, Accuracy: 96.85%\n"
     ]
    },
    {
     "name": "stderr",
     "output_type": "stream",
     "text": [
      "Epoch 64/100:   0%|          | 0/782 [01:22<?, ?it/s, accuracy=96.9, loss=0.13]\n",
      "Epoch 65/100:   0%|          | 0/782 [01:16<?, ?it/s, accuracy=97, loss=0.119]  "
     ]
    },
    {
     "name": "stdout",
     "output_type": "stream",
     "text": [
      "Epoch [65/100], Loss: 0.1192, Accuracy: 96.97%\n"
     ]
    },
    {
     "name": "stderr",
     "output_type": "stream",
     "text": [
      "Epoch 65/100:   0%|          | 0/782 [01:21<?, ?it/s, accuracy=97, loss=0.119]\n"
     ]
    },
    {
     "name": "stdout",
     "output_type": "stream",
     "text": [
      "Epoch [66/100], Loss: 0.1278, Accuracy: 96.90%\n"
     ]
    },
    {
     "name": "stderr",
     "output_type": "stream",
     "text": [
      "Epoch 66/100:   0%|          | 0/782 [01:22<?, ?it/s, accuracy=96.9, loss=0.128]\n",
      "Epoch 67/100:   0%|          | 0/782 [01:17<?, ?it/s, accuracy=96.9, loss=0.129] "
     ]
    },
    {
     "name": "stdout",
     "output_type": "stream",
     "text": [
      "Epoch [67/100], Loss: 0.1290, Accuracy: 96.93%\n"
     ]
    },
    {
     "name": "stderr",
     "output_type": "stream",
     "text": [
      "Epoch 67/100:   0%|          | 0/782 [01:21<?, ?it/s, accuracy=96.9, loss=0.129]\n"
     ]
    },
    {
     "name": "stdout",
     "output_type": "stream",
     "text": [
      "Epoch [68/100], Loss: 0.1489, Accuracy: 96.37%\n"
     ]
    },
    {
     "name": "stderr",
     "output_type": "stream",
     "text": [
      "Epoch 68/100:   0%|          | 0/782 [01:22<?, ?it/s, accuracy=96.4, loss=0.149]\n",
      "Epoch 69/100:   0%|          | 0/782 [01:17<?, ?it/s, accuracy=96.5, loss=0.143] "
     ]
    },
    {
     "name": "stdout",
     "output_type": "stream",
     "text": [
      "Epoch [69/100], Loss: 0.1428, Accuracy: 96.50%\n"
     ]
    },
    {
     "name": "stderr",
     "output_type": "stream",
     "text": [
      "Epoch 69/100:   0%|          | 0/782 [01:22<?, ?it/s, accuracy=96.5, loss=0.143]\n"
     ]
    },
    {
     "name": "stdout",
     "output_type": "stream",
     "text": [
      "Epoch [70/100], Loss: 0.1825, Accuracy: 95.74%\n"
     ]
    },
    {
     "name": "stderr",
     "output_type": "stream",
     "text": [
      "Epoch 70/100:   0%|          | 0/782 [01:22<?, ?it/s, accuracy=95.7, loss=0.182]\n",
      "Epoch 71/100:   0%|          | 0/782 [01:17<?, ?it/s, accuracy=95.9, loss=0.174]"
     ]
    },
    {
     "name": "stdout",
     "output_type": "stream",
     "text": [
      "Epoch [71/100], Loss: 0.1743, Accuracy: 95.88%\n"
     ]
    },
    {
     "name": "stderr",
     "output_type": "stream",
     "text": [
      "Epoch 71/100:   0%|          | 0/782 [01:21<?, ?it/s, accuracy=95.9, loss=0.174]\n"
     ]
    },
    {
     "name": "stdout",
     "output_type": "stream",
     "text": [
      "Epoch [72/100], Loss: 0.1592, Accuracy: 96.19%\n"
     ]
    },
    {
     "name": "stderr",
     "output_type": "stream",
     "text": [
      "Epoch 72/100:   0%|          | 0/782 [01:22<?, ?it/s, accuracy=96.2, loss=0.159]\n",
      "Epoch 73/100:   0%|          | 0/782 [01:17<?, ?it/s, accuracy=96, loss=0.172]  "
     ]
    },
    {
     "name": "stdout",
     "output_type": "stream",
     "text": [
      "Epoch [73/100], Loss: 0.1721, Accuracy: 96.01%\n"
     ]
    },
    {
     "name": "stderr",
     "output_type": "stream",
     "text": [
      "Epoch 73/100:   0%|          | 0/782 [01:22<?, ?it/s, accuracy=96, loss=0.172]\n"
     ]
    },
    {
     "name": "stdout",
     "output_type": "stream",
     "text": [
      "Epoch [74/100], Loss: 0.1872, Accuracy: 95.66%\n"
     ]
    },
    {
     "name": "stderr",
     "output_type": "stream",
     "text": [
      "Epoch 74/100:   0%|          | 0/782 [01:22<?, ?it/s, accuracy=95.7, loss=0.187]\n",
      "Epoch 75/100:   0%|          | 0/782 [01:17<?, ?it/s, accuracy=95.4, loss=0.201] "
     ]
    },
    {
     "name": "stdout",
     "output_type": "stream",
     "text": [
      "Epoch [75/100], Loss: 0.2011, Accuracy: 95.35%\n"
     ]
    },
    {
     "name": "stderr",
     "output_type": "stream",
     "text": [
      "Epoch 75/100:   0%|          | 0/782 [01:22<?, ?it/s, accuracy=95.4, loss=0.201]\n"
     ]
    },
    {
     "name": "stdout",
     "output_type": "stream",
     "text": [
      "Epoch [76/100], Loss: 0.2174, Accuracy: 94.92%\n"
     ]
    },
    {
     "name": "stderr",
     "output_type": "stream",
     "text": [
      "Epoch 76/100:   0%|          | 0/782 [01:22<?, ?it/s, accuracy=94.9, loss=0.217]\n",
      "Epoch 77/100:   0%|          | 0/782 [01:17<?, ?it/s, accuracy=94.8, loss=0.231]"
     ]
    },
    {
     "name": "stdout",
     "output_type": "stream",
     "text": [
      "Epoch [77/100], Loss: 0.2306, Accuracy: 94.79%\n"
     ]
    },
    {
     "name": "stderr",
     "output_type": "stream",
     "text": [
      "Epoch 77/100:   0%|          | 0/782 [01:22<?, ?it/s, accuracy=94.8, loss=0.231]\n"
     ]
    },
    {
     "name": "stdout",
     "output_type": "stream",
     "text": [
      "Epoch [78/100], Loss: 0.2135, Accuracy: 95.13%\n"
     ]
    },
    {
     "name": "stderr",
     "output_type": "stream",
     "text": [
      "Epoch 78/100:   0%|          | 0/782 [01:22<?, ?it/s, accuracy=95.1, loss=0.213]\n",
      "Epoch 79/100:   0%|          | 0/782 [01:17<?, ?it/s, accuracy=94.3, loss=0.258]"
     ]
    },
    {
     "name": "stdout",
     "output_type": "stream",
     "text": [
      "Epoch [79/100], Loss: 0.2580, Accuracy: 94.27%\n"
     ]
    },
    {
     "name": "stderr",
     "output_type": "stream",
     "text": [
      "Epoch 79/100:   0%|          | 0/782 [01:22<?, ?it/s, accuracy=94.3, loss=0.258]\n"
     ]
    },
    {
     "name": "stdout",
     "output_type": "stream",
     "text": [
      "Epoch [80/100], Loss: 0.2816, Accuracy: 93.72%\n"
     ]
    },
    {
     "name": "stderr",
     "output_type": "stream",
     "text": [
      "Epoch 80/100:   0%|          | 0/782 [01:22<?, ?it/s, accuracy=93.7, loss=0.282]\n",
      "Epoch 81/100:   0%|          | 0/782 [01:17<?, ?it/s, accuracy=93.5, loss=0.295]"
     ]
    },
    {
     "name": "stdout",
     "output_type": "stream",
     "text": [
      "Epoch [81/100], Loss: 0.2949, Accuracy: 93.47%\n"
     ]
    },
    {
     "name": "stderr",
     "output_type": "stream",
     "text": [
      "Epoch 81/100:   0%|          | 0/782 [01:22<?, ?it/s, accuracy=93.5, loss=0.295]\n"
     ]
    },
    {
     "name": "stdout",
     "output_type": "stream",
     "text": [
      "Epoch [82/100], Loss: 0.3156, Accuracy: 93.00%\n"
     ]
    },
    {
     "name": "stderr",
     "output_type": "stream",
     "text": [
      "Epoch 82/100:   0%|          | 0/782 [01:22<?, ?it/s, accuracy=93, loss=0.316]\n",
      "Epoch 83/100:   0%|          | 0/782 [01:16<?, ?it/s, accuracy=92.5, loss=0.348]"
     ]
    },
    {
     "name": "stdout",
     "output_type": "stream",
     "text": [
      "Epoch [83/100], Loss: 0.3476, Accuracy: 92.47%\n"
     ]
    },
    {
     "name": "stderr",
     "output_type": "stream",
     "text": [
      "Epoch 83/100:   0%|          | 0/782 [01:22<?, ?it/s, accuracy=92.5, loss=0.348]\n"
     ]
    },
    {
     "name": "stdout",
     "output_type": "stream",
     "text": [
      "Epoch [84/100], Loss: 0.3885, Accuracy: 91.65%\n"
     ]
    },
    {
     "name": "stderr",
     "output_type": "stream",
     "text": [
      "Epoch 84/100:   0%|          | 0/782 [01:22<?, ?it/s, accuracy=91.6, loss=0.388]\n",
      "Epoch 85/100:   0%|          | 0/782 [01:17<?, ?it/s, accuracy=90.8, loss=0.437]"
     ]
    },
    {
     "name": "stdout",
     "output_type": "stream",
     "text": [
      "Epoch [85/100], Loss: 0.4370, Accuracy: 90.76%\n"
     ]
    },
    {
     "name": "stderr",
     "output_type": "stream",
     "text": [
      "Epoch 85/100:   0%|          | 0/782 [01:21<?, ?it/s, accuracy=90.8, loss=0.437]\n"
     ]
    },
    {
     "name": "stdout",
     "output_type": "stream",
     "text": [
      "Epoch [86/100], Loss: 0.4575, Accuracy: 90.16%\n"
     ]
    },
    {
     "name": "stderr",
     "output_type": "stream",
     "text": [
      "Epoch 86/100:   0%|          | 0/782 [01:22<?, ?it/s, accuracy=90.2, loss=0.457]\n",
      "Epoch 87/100:   0%|          | 0/782 [01:17<?, ?it/s, accuracy=88.9, loss=0.528]"
     ]
    },
    {
     "name": "stdout",
     "output_type": "stream",
     "text": [
      "Epoch [87/100], Loss: 0.5279, Accuracy: 88.93%\n"
     ]
    },
    {
     "name": "stderr",
     "output_type": "stream",
     "text": [
      "Epoch 87/100:   0%|          | 0/782 [01:22<?, ?it/s, accuracy=88.9, loss=0.528]\n"
     ]
    },
    {
     "name": "stdout",
     "output_type": "stream",
     "text": [
      "Epoch [88/100], Loss: 0.6058, Accuracy: 87.38%\n"
     ]
    },
    {
     "name": "stderr",
     "output_type": "stream",
     "text": [
      "Epoch 88/100:   0%|          | 0/782 [01:22<?, ?it/s, accuracy=87.4, loss=0.606]\n",
      "Epoch 89/100:   0%|          | 0/782 [01:17<?, ?it/s, accuracy=86.1, loss=0.678]"
     ]
    },
    {
     "name": "stdout",
     "output_type": "stream",
     "text": [
      "Epoch [89/100], Loss: 0.6777, Accuracy: 86.14%\n"
     ]
    },
    {
     "name": "stderr",
     "output_type": "stream",
     "text": [
      "Epoch 89/100:   0%|          | 0/782 [01:22<?, ?it/s, accuracy=86.1, loss=0.678]\n"
     ]
    },
    {
     "name": "stdout",
     "output_type": "stream",
     "text": [
      "Epoch [90/100], Loss: 0.7630, Accuracy: 84.38%\n"
     ]
    },
    {
     "name": "stderr",
     "output_type": "stream",
     "text": [
      "Epoch 90/100:   0%|          | 0/782 [01:22<?, ?it/s, accuracy=84.4, loss=0.763]\n",
      "Epoch 91/100:   0%|          | 0/782 [01:17<?, ?it/s, accuracy=83.5, loss=0.802]"
     ]
    },
    {
     "name": "stdout",
     "output_type": "stream",
     "text": [
      "Epoch [91/100], Loss: 0.8017, Accuracy: 83.46%\n"
     ]
    },
    {
     "name": "stderr",
     "output_type": "stream",
     "text": [
      "Epoch 91/100:   0%|          | 0/782 [01:22<?, ?it/s, accuracy=83.5, loss=0.802]\n"
     ]
    },
    {
     "name": "stdout",
     "output_type": "stream",
     "text": [
      "Epoch [92/100], Loss: 0.9657, Accuracy: 80.47%\n"
     ]
    },
    {
     "name": "stderr",
     "output_type": "stream",
     "text": [
      "Epoch 92/100:   0%|          | 0/782 [01:22<?, ?it/s, accuracy=80.5, loss=0.966]\n",
      "Epoch 93/100:   0%|          | 0/782 [01:17<?, ?it/s, accuracy=77.5, loss=1.12] "
     ]
    },
    {
     "name": "stdout",
     "output_type": "stream",
     "text": [
      "Epoch [93/100], Loss: 1.1239, Accuracy: 77.53%\n"
     ]
    },
    {
     "name": "stderr",
     "output_type": "stream",
     "text": [
      "Epoch 93/100:   0%|          | 0/782 [01:22<?, ?it/s, accuracy=77.5, loss=1.12]\n"
     ]
    },
    {
     "name": "stdout",
     "output_type": "stream",
     "text": [
      "Epoch [94/100], Loss: 1.2459, Accuracy: 74.86%\n"
     ]
    },
    {
     "name": "stderr",
     "output_type": "stream",
     "text": [
      "Epoch 94/100:   0%|          | 0/782 [01:23<?, ?it/s, accuracy=74.9, loss=1.25]\n",
      "Epoch 95/100:   0%|          | 0/782 [01:17<?, ?it/s, accuracy=70, loss=1.51]  "
     ]
    },
    {
     "name": "stdout",
     "output_type": "stream",
     "text": [
      "Epoch [95/100], Loss: 1.5101, Accuracy: 69.98%\n"
     ]
    },
    {
     "name": "stderr",
     "output_type": "stream",
     "text": [
      "Epoch 95/100:   0%|          | 0/782 [01:22<?, ?it/s, accuracy=70, loss=1.51]\n"
     ]
    },
    {
     "name": "stdout",
     "output_type": "stream",
     "text": [
      "Epoch [96/100], Loss: 1.6687, Accuracy: 66.42%\n"
     ]
    },
    {
     "name": "stderr",
     "output_type": "stream",
     "text": [
      "Epoch 96/100:   0%|          | 0/782 [01:22<?, ?it/s, accuracy=66.4, loss=1.67]\n",
      "Epoch 97/100:   0%|          | 0/782 [01:18<?, ?it/s, accuracy=64.1, loss=1.8] "
     ]
    },
    {
     "name": "stdout",
     "output_type": "stream",
     "text": [
      "Epoch [97/100], Loss: 1.7969, Accuracy: 64.08%\n"
     ]
    },
    {
     "name": "stderr",
     "output_type": "stream",
     "text": [
      "Epoch 97/100:   0%|          | 0/782 [01:23<?, ?it/s, accuracy=64.1, loss=1.8]\n"
     ]
    },
    {
     "name": "stdout",
     "output_type": "stream",
     "text": [
      "Epoch [98/100], Loss: 1.9829, Accuracy: 60.46%\n"
     ]
    },
    {
     "name": "stderr",
     "output_type": "stream",
     "text": [
      "Epoch 98/100:   0%|          | 0/782 [01:22<?, ?it/s, accuracy=60.5, loss=1.98]\n",
      "Epoch 99/100:   0%|          | 0/782 [01:17<?, ?it/s, accuracy=58.5, loss=2.06]"
     ]
    },
    {
     "name": "stdout",
     "output_type": "stream",
     "text": [
      "Epoch [99/100], Loss: 2.0613, Accuracy: 58.54%\n"
     ]
    },
    {
     "name": "stderr",
     "output_type": "stream",
     "text": [
      "Epoch 99/100:   0%|          | 0/782 [01:22<?, ?it/s, accuracy=58.5, loss=2.06]\n",
      "Epoch 100/100:   0%|          | 0/782 [01:18<?, ?it/s, accuracy=52.5, loss=2.37]"
     ]
    },
    {
     "name": "stdout",
     "output_type": "stream",
     "text": [
      "Epoch [100/100], Loss: 2.3724, Accuracy: 52.46%\n"
     ]
    },
    {
     "name": "stderr",
     "output_type": "stream",
     "text": [
      "\n",
      "Epoch 1/100:   0%|          | 0/782 [00:42<?, ?it/s, accuracy=2.51, loss=4.44] "
     ]
    },
    {
     "name": "stdout",
     "output_type": "stream",
     "text": [
      "Epoch [1/100], Loss: 4.4445, Accuracy: 2.51%\n"
     ]
    },
    {
     "name": "stderr",
     "output_type": "stream",
     "text": [
      "Epoch 1/100:   0%|          | 0/782 [00:47<?, ?it/s, accuracy=2.51, loss=4.44]\n"
     ]
    },
    {
     "name": "stdout",
     "output_type": "stream",
     "text": [
      "Epoch [2/100], Loss: 3.8948, Accuracy: 9.31%\n"
     ]
    },
    {
     "name": "stderr",
     "output_type": "stream",
     "text": [
      "Epoch 2/100:   0%|          | 0/782 [00:47<?, ?it/s, accuracy=9.31, loss=3.89]\n",
      "Epoch 3/100:   0%|          | 0/782 [00:42<?, ?it/s, accuracy=18.4, loss=3.36]"
     ]
    },
    {
     "name": "stdout",
     "output_type": "stream",
     "text": [
      "Epoch [3/100], Loss: 3.3611, Accuracy: 18.41%\n"
     ]
    },
    {
     "name": "stderr",
     "output_type": "stream",
     "text": [
      "Epoch 3/100:   0%|          | 0/782 [00:47<?, ?it/s, accuracy=18.4, loss=3.36]\n"
     ]
    },
    {
     "name": "stdout",
     "output_type": "stream",
     "text": [
      "Epoch [4/100], Loss: 2.9311, Accuracy: 26.62%\n"
     ]
    },
    {
     "name": "stderr",
     "output_type": "stream",
     "text": [
      "Epoch 4/100:   0%|          | 0/782 [00:47<?, ?it/s, accuracy=26.6, loss=2.93]\n",
      "Epoch 5/100:   0%|          | 0/782 [00:42<?, ?it/s, accuracy=34.3, loss=2.55]"
     ]
    },
    {
     "name": "stdout",
     "output_type": "stream",
     "text": [
      "Epoch [5/100], Loss: 2.5501, Accuracy: 34.31%\n"
     ]
    },
    {
     "name": "stderr",
     "output_type": "stream",
     "text": [
      "Epoch 5/100:   0%|          | 0/782 [00:47<?, ?it/s, accuracy=34.3, loss=2.55]\n"
     ]
    },
    {
     "name": "stdout",
     "output_type": "stream",
     "text": [
      "Epoch [6/100], Loss: 2.1984, Accuracy: 42.08%\n"
     ]
    },
    {
     "name": "stderr",
     "output_type": "stream",
     "text": [
      "Epoch 6/100:   0%|          | 0/782 [00:47<?, ?it/s, accuracy=42.1, loss=2.2]\n",
      "Epoch 7/100:   0%|          | 0/782 [00:42<?, ?it/s, accuracy=49.1, loss=1.88]"
     ]
    },
    {
     "name": "stdout",
     "output_type": "stream",
     "text": [
      "Epoch [7/100], Loss: 1.8809, Accuracy: 49.08%\n"
     ]
    },
    {
     "name": "stderr",
     "output_type": "stream",
     "text": [
      "Epoch 7/100:   0%|          | 0/782 [00:47<?, ?it/s, accuracy=49.1, loss=1.88]\n"
     ]
    },
    {
     "name": "stdout",
     "output_type": "stream",
     "text": [
      "Epoch [8/100], Loss: 1.5760, Accuracy: 56.36%\n"
     ]
    },
    {
     "name": "stderr",
     "output_type": "stream",
     "text": [
      "Epoch 8/100:   0%|          | 0/782 [00:47<?, ?it/s, accuracy=56.4, loss=1.58]\n",
      "Epoch 9/100:   0%|          | 0/782 [00:42<?, ?it/s, accuracy=63.7, loss=1.29]"
     ]
    },
    {
     "name": "stdout",
     "output_type": "stream",
     "text": [
      "Epoch [9/100], Loss: 1.2869, Accuracy: 63.66%\n"
     ]
    },
    {
     "name": "stderr",
     "output_type": "stream",
     "text": [
      "Epoch 9/100:   0%|          | 0/782 [00:47<?, ?it/s, accuracy=63.7, loss=1.29]\n"
     ]
    },
    {
     "name": "stdout",
     "output_type": "stream",
     "text": [
      "Epoch [10/100], Loss: 1.0511, Accuracy: 69.38%\n"
     ]
    },
    {
     "name": "stderr",
     "output_type": "stream",
     "text": [
      "Epoch 10/100:   0%|          | 0/782 [00:50<?, ?it/s, accuracy=69.4, loss=1.05]\n",
      "Epoch 11/100:   0%|          | 0/782 [00:42<?, ?it/s, accuracy=74.7, loss=0.856]"
     ]
    },
    {
     "name": "stdout",
     "output_type": "stream",
     "text": [
      "Epoch [11/100], Loss: 0.8558, Accuracy: 74.74%\n"
     ]
    },
    {
     "name": "stderr",
     "output_type": "stream",
     "text": [
      "Epoch 11/100:   0%|          | 0/782 [00:47<?, ?it/s, accuracy=74.7, loss=0.856]\n"
     ]
    },
    {
     "name": "stdout",
     "output_type": "stream",
     "text": [
      "Epoch [12/100], Loss: 0.7094, Accuracy: 78.89%\n"
     ]
    },
    {
     "name": "stderr",
     "output_type": "stream",
     "text": [
      "Epoch 12/100:   0%|          | 0/782 [00:48<?, ?it/s, accuracy=78.9, loss=0.709]\n",
      "Epoch 13/100:   0%|          | 0/782 [00:41<?, ?it/s, accuracy=82.1, loss=0.611]"
     ]
    },
    {
     "name": "stdout",
     "output_type": "stream",
     "text": [
      "Epoch [13/100], Loss: 0.6107, Accuracy: 82.05%\n"
     ]
    },
    {
     "name": "stderr",
     "output_type": "stream",
     "text": [
      "Epoch 13/100:   0%|          | 0/782 [00:46<?, ?it/s, accuracy=82.1, loss=0.611]\n"
     ]
    },
    {
     "name": "stdout",
     "output_type": "stream",
     "text": [
      "Epoch [14/100], Loss: 0.5496, Accuracy: 83.76%\n"
     ]
    },
    {
     "name": "stderr",
     "output_type": "stream",
     "text": [
      "Epoch 14/100:   0%|          | 0/782 [00:48<?, ?it/s, accuracy=83.8, loss=0.55]\n",
      "Epoch 15/100:   0%|          | 0/782 [00:42<?, ?it/s, accuracy=86, loss=0.47]   "
     ]
    },
    {
     "name": "stdout",
     "output_type": "stream",
     "text": [
      "Epoch [15/100], Loss: 0.4696, Accuracy: 85.98%\n"
     ]
    },
    {
     "name": "stderr",
     "output_type": "stream",
     "text": [
      "Epoch 15/100:   0%|          | 0/782 [00:47<?, ?it/s, accuracy=86, loss=0.47]\n"
     ]
    },
    {
     "name": "stdout",
     "output_type": "stream",
     "text": [
      "Epoch [16/100], Loss: 0.4459, Accuracy: 86.97%\n"
     ]
    },
    {
     "name": "stderr",
     "output_type": "stream",
     "text": [
      "Epoch 16/100:   0%|          | 0/782 [00:48<?, ?it/s, accuracy=87, loss=0.446]\n",
      "Epoch 17/100:   0%|          | 0/782 [00:42<?, ?it/s, accuracy=88.9, loss=0.385]"
     ]
    },
    {
     "name": "stdout",
     "output_type": "stream",
     "text": [
      "Epoch [17/100], Loss: 0.3846, Accuracy: 88.91%\n"
     ]
    },
    {
     "name": "stderr",
     "output_type": "stream",
     "text": [
      "Epoch 17/100:   0%|          | 0/782 [00:47<?, ?it/s, accuracy=88.9, loss=0.385]\n"
     ]
    },
    {
     "name": "stdout",
     "output_type": "stream",
     "text": [
      "Epoch [18/100], Loss: 0.3792, Accuracy: 88.97%\n"
     ]
    },
    {
     "name": "stderr",
     "output_type": "stream",
     "text": [
      "Epoch 18/100:   0%|          | 0/782 [00:47<?, ?it/s, accuracy=89, loss=0.379]\n",
      "Epoch 19/100:   0%|          | 0/782 [00:42<?, ?it/s, accuracy=89.9, loss=0.35] "
     ]
    },
    {
     "name": "stdout",
     "output_type": "stream",
     "text": [
      "Epoch [19/100], Loss: 0.3503, Accuracy: 89.85%\n"
     ]
    },
    {
     "name": "stderr",
     "output_type": "stream",
     "text": [
      "Epoch 19/100:   0%|          | 0/782 [00:47<?, ?it/s, accuracy=89.9, loss=0.35]\n"
     ]
    },
    {
     "name": "stdout",
     "output_type": "stream",
     "text": [
      "Epoch [20/100], Loss: 0.3140, Accuracy: 90.96%\n"
     ]
    },
    {
     "name": "stderr",
     "output_type": "stream",
     "text": [
      "Epoch 20/100:   0%|          | 0/782 [00:48<?, ?it/s, accuracy=91, loss=0.314]\n",
      "Epoch 21/100:   0%|          | 0/782 [00:42<?, ?it/s, accuracy=90.8, loss=0.323]"
     ]
    },
    {
     "name": "stdout",
     "output_type": "stream",
     "text": [
      "Epoch [21/100], Loss: 0.3226, Accuracy: 90.78%\n"
     ]
    },
    {
     "name": "stderr",
     "output_type": "stream",
     "text": [
      "Epoch 21/100:   0%|          | 0/782 [00:47<?, ?it/s, accuracy=90.8, loss=0.323]\n"
     ]
    },
    {
     "name": "stdout",
     "output_type": "stream",
     "text": [
      "Epoch [22/100], Loss: 0.3028, Accuracy: 91.34%\n"
     ]
    },
    {
     "name": "stderr",
     "output_type": "stream",
     "text": [
      "Epoch 22/100:   0%|          | 0/782 [00:47<?, ?it/s, accuracy=91.3, loss=0.303]\n",
      "Epoch 23/100:   0%|          | 0/782 [00:41<?, ?it/s, accuracy=91.5, loss=0.298]"
     ]
    },
    {
     "name": "stdout",
     "output_type": "stream",
     "text": [
      "Epoch [23/100], Loss: 0.2985, Accuracy: 91.54%\n"
     ]
    },
    {
     "name": "stderr",
     "output_type": "stream",
     "text": [
      "Epoch 23/100:   0%|          | 0/782 [00:46<?, ?it/s, accuracy=91.5, loss=0.298]\n"
     ]
    },
    {
     "name": "stdout",
     "output_type": "stream",
     "text": [
      "Epoch [24/100], Loss: 0.2805, Accuracy: 92.14%\n"
     ]
    },
    {
     "name": "stderr",
     "output_type": "stream",
     "text": [
      "Epoch 24/100:   0%|          | 0/782 [00:47<?, ?it/s, accuracy=92.1, loss=0.28]\n",
      "Epoch 25/100:   0%|          | 0/782 [00:42<?, ?it/s, accuracy=92.5, loss=0.27] "
     ]
    },
    {
     "name": "stdout",
     "output_type": "stream",
     "text": [
      "Epoch [25/100], Loss: 0.2698, Accuracy: 92.50%\n"
     ]
    },
    {
     "name": "stderr",
     "output_type": "stream",
     "text": [
      "Epoch 25/100:   0%|          | 0/782 [00:47<?, ?it/s, accuracy=92.5, loss=0.27]\n"
     ]
    },
    {
     "name": "stdout",
     "output_type": "stream",
     "text": [
      "Epoch [26/100], Loss: 0.2792, Accuracy: 92.31%\n"
     ]
    },
    {
     "name": "stderr",
     "output_type": "stream",
     "text": [
      "Epoch 26/100:   0%|          | 0/782 [00:47<?, ?it/s, accuracy=92.3, loss=0.279]\n",
      "Epoch 27/100:   0%|          | 0/782 [00:42<?, ?it/s, accuracy=92.1, loss=0.282]"
     ]
    },
    {
     "name": "stdout",
     "output_type": "stream",
     "text": [
      "Epoch [27/100], Loss: 0.2823, Accuracy: 92.08%\n"
     ]
    },
    {
     "name": "stderr",
     "output_type": "stream",
     "text": [
      "Epoch 27/100:   0%|          | 0/782 [00:47<?, ?it/s, accuracy=92.1, loss=0.282]\n"
     ]
    },
    {
     "name": "stdout",
     "output_type": "stream",
     "text": [
      "Epoch [28/100], Loss: 0.2768, Accuracy: 92.45%\n"
     ]
    },
    {
     "name": "stderr",
     "output_type": "stream",
     "text": [
      "Epoch 28/100:   0%|          | 0/782 [00:47<?, ?it/s, accuracy=92.5, loss=0.277]\n",
      "Epoch 29/100:   0%|          | 0/782 [00:42<?, ?it/s, accuracy=92.7, loss=0.27] "
     ]
    },
    {
     "name": "stdout",
     "output_type": "stream",
     "text": [
      "Epoch [29/100], Loss: 0.2699, Accuracy: 92.70%\n"
     ]
    },
    {
     "name": "stderr",
     "output_type": "stream",
     "text": [
      "Epoch 29/100:   0%|          | 0/782 [00:47<?, ?it/s, accuracy=92.7, loss=0.27]\n"
     ]
    },
    {
     "name": "stdout",
     "output_type": "stream",
     "text": [
      "Epoch [30/100], Loss: 0.2841, Accuracy: 92.21%\n"
     ]
    },
    {
     "name": "stderr",
     "output_type": "stream",
     "text": [
      "Epoch 30/100:   0%|          | 0/782 [00:47<?, ?it/s, accuracy=92.2, loss=0.284]\n",
      "Epoch 31/100:   0%|          | 0/782 [00:42<?, ?it/s, accuracy=92.1, loss=0.287]"
     ]
    },
    {
     "name": "stdout",
     "output_type": "stream",
     "text": [
      "Epoch [31/100], Loss: 0.2875, Accuracy: 92.13%\n"
     ]
    },
    {
     "name": "stderr",
     "output_type": "stream",
     "text": [
      "Epoch 31/100:   0%|          | 0/782 [00:47<?, ?it/s, accuracy=92.1, loss=0.287]\n"
     ]
    },
    {
     "name": "stdout",
     "output_type": "stream",
     "text": [
      "Epoch [32/100], Loss: 0.2835, Accuracy: 92.32%\n"
     ]
    },
    {
     "name": "stderr",
     "output_type": "stream",
     "text": [
      "Epoch 32/100:   0%|          | 0/782 [00:47<?, ?it/s, accuracy=92.3, loss=0.283]\n",
      "Epoch 33/100:   0%|          | 0/782 [00:42<?, ?it/s, accuracy=92.3, loss=0.293]"
     ]
    },
    {
     "name": "stdout",
     "output_type": "stream",
     "text": [
      "Epoch [33/100], Loss: 0.2934, Accuracy: 92.27%\n"
     ]
    },
    {
     "name": "stderr",
     "output_type": "stream",
     "text": [
      "Epoch 33/100:   0%|          | 0/782 [00:47<?, ?it/s, accuracy=92.3, loss=0.293]\n"
     ]
    },
    {
     "name": "stdout",
     "output_type": "stream",
     "text": [
      "Epoch [34/100], Loss: 0.3026, Accuracy: 92.12%\n"
     ]
    },
    {
     "name": "stderr",
     "output_type": "stream",
     "text": [
      "Epoch 34/100:   0%|          | 0/782 [00:48<?, ?it/s, accuracy=92.1, loss=0.303]\n",
      "Epoch 35/100:   0%|          | 0/782 [00:42<?, ?it/s, accuracy=92.1, loss=0.303]"
     ]
    },
    {
     "name": "stdout",
     "output_type": "stream",
     "text": [
      "Epoch [35/100], Loss: 0.3031, Accuracy: 92.13%\n"
     ]
    },
    {
     "name": "stderr",
     "output_type": "stream",
     "text": [
      "Epoch 35/100:   0%|          | 0/782 [00:47<?, ?it/s, accuracy=92.1, loss=0.303]\n"
     ]
    },
    {
     "name": "stdout",
     "output_type": "stream",
     "text": [
      "Epoch [36/100], Loss: 0.3200, Accuracy: 91.70%\n"
     ]
    },
    {
     "name": "stderr",
     "output_type": "stream",
     "text": [
      "Epoch 36/100:   0%|          | 0/782 [00:47<?, ?it/s, accuracy=91.7, loss=0.32]\n",
      "Epoch 37/100:   0%|          | 0/782 [00:42<?, ?it/s, accuracy=91.7, loss=0.317]"
     ]
    },
    {
     "name": "stdout",
     "output_type": "stream",
     "text": [
      "Epoch [37/100], Loss: 0.3167, Accuracy: 91.72%\n"
     ]
    },
    {
     "name": "stderr",
     "output_type": "stream",
     "text": [
      "Epoch 37/100:   0%|          | 0/782 [00:47<?, ?it/s, accuracy=91.7, loss=0.317]\n"
     ]
    },
    {
     "name": "stdout",
     "output_type": "stream",
     "text": [
      "Epoch [38/100], Loss: 0.3440, Accuracy: 91.16%\n"
     ]
    },
    {
     "name": "stderr",
     "output_type": "stream",
     "text": [
      "Epoch 38/100:   0%|          | 0/782 [00:47<?, ?it/s, accuracy=91.2, loss=0.344]\n",
      "Epoch 39/100:   0%|          | 0/782 [00:42<?, ?it/s, accuracy=90.5, loss=0.373]"
     ]
    },
    {
     "name": "stdout",
     "output_type": "stream",
     "text": [
      "Epoch [39/100], Loss: 0.3730, Accuracy: 90.53%\n"
     ]
    },
    {
     "name": "stderr",
     "output_type": "stream",
     "text": [
      "Epoch 39/100:   0%|          | 0/782 [00:47<?, ?it/s, accuracy=90.5, loss=0.373]\n"
     ]
    },
    {
     "name": "stdout",
     "output_type": "stream",
     "text": [
      "Epoch [40/100], Loss: 0.3786, Accuracy: 90.57%\n"
     ]
    },
    {
     "name": "stderr",
     "output_type": "stream",
     "text": [
      "Epoch 40/100:   0%|          | 0/782 [00:47<?, ?it/s, accuracy=90.6, loss=0.379]\n",
      "Epoch 41/100:   0%|          | 0/782 [00:42<?, ?it/s, accuracy=89.4, loss=0.42]  "
     ]
    },
    {
     "name": "stdout",
     "output_type": "stream",
     "text": [
      "Epoch [41/100], Loss: 0.4201, Accuracy: 89.37%\n"
     ]
    },
    {
     "name": "stderr",
     "output_type": "stream",
     "text": [
      "Epoch 41/100:   0%|          | 0/782 [00:47<?, ?it/s, accuracy=89.4, loss=0.42]\n"
     ]
    },
    {
     "name": "stdout",
     "output_type": "stream",
     "text": [
      "Epoch [42/100], Loss: 0.4424, Accuracy: 89.01%\n"
     ]
    },
    {
     "name": "stderr",
     "output_type": "stream",
     "text": [
      "Epoch 42/100:   0%|          | 0/782 [00:47<?, ?it/s, accuracy=89, loss=0.442]\n",
      "Epoch 43/100:   0%|          | 0/782 [00:42<?, ?it/s, accuracy=88.1, loss=0.489]"
     ]
    },
    {
     "name": "stdout",
     "output_type": "stream",
     "text": [
      "Epoch [43/100], Loss: 0.4887, Accuracy: 88.11%\n"
     ]
    },
    {
     "name": "stderr",
     "output_type": "stream",
     "text": [
      "Epoch 43/100:   0%|          | 0/782 [00:47<?, ?it/s, accuracy=88.1, loss=0.489]\n"
     ]
    },
    {
     "name": "stdout",
     "output_type": "stream",
     "text": [
      "Epoch [44/100], Loss: 0.5131, Accuracy: 87.43%\n"
     ]
    },
    {
     "name": "stderr",
     "output_type": "stream",
     "text": [
      "Epoch 44/100:   0%|          | 0/782 [00:47<?, ?it/s, accuracy=87.4, loss=0.513]\n",
      "Epoch 45/100:   0%|          | 0/782 [00:42<?, ?it/s, accuracy=87, loss=0.539]  "
     ]
    },
    {
     "name": "stdout",
     "output_type": "stream",
     "text": [
      "Epoch [45/100], Loss: 0.5389, Accuracy: 86.98%\n"
     ]
    },
    {
     "name": "stderr",
     "output_type": "stream",
     "text": [
      "Epoch 45/100:   0%|          | 0/782 [00:47<?, ?it/s, accuracy=87, loss=0.539]\n"
     ]
    },
    {
     "name": "stdout",
     "output_type": "stream",
     "text": [
      "Epoch [46/100], Loss: 0.5880, Accuracy: 86.09%\n"
     ]
    },
    {
     "name": "stderr",
     "output_type": "stream",
     "text": [
      "Epoch 46/100:   0%|          | 0/782 [00:47<?, ?it/s, accuracy=86.1, loss=0.588]\n",
      "Epoch 47/100:   0%|          | 0/782 [00:42<?, ?it/s, accuracy=84.6, loss=0.647]"
     ]
    },
    {
     "name": "stdout",
     "output_type": "stream",
     "text": [
      "Epoch [47/100], Loss: 0.6468, Accuracy: 84.57%\n"
     ]
    },
    {
     "name": "stderr",
     "output_type": "stream",
     "text": [
      "Epoch 47/100:   0%|          | 0/782 [00:47<?, ?it/s, accuracy=84.6, loss=0.647]\n"
     ]
    },
    {
     "name": "stdout",
     "output_type": "stream",
     "text": [
      "Epoch [48/100], Loss: 0.6986, Accuracy: 83.63%\n"
     ]
    },
    {
     "name": "stderr",
     "output_type": "stream",
     "text": [
      "Epoch 48/100:   0%|          | 0/782 [00:47<?, ?it/s, accuracy=83.6, loss=0.699]\n",
      "Epoch 49/100:   0%|          | 0/782 [00:42<?, ?it/s, accuracy=82.7, loss=0.751]"
     ]
    },
    {
     "name": "stdout",
     "output_type": "stream",
     "text": [
      "Epoch [49/100], Loss: 0.7509, Accuracy: 82.72%\n"
     ]
    },
    {
     "name": "stderr",
     "output_type": "stream",
     "text": [
      "Epoch 49/100:   0%|          | 0/782 [00:47<?, ?it/s, accuracy=82.7, loss=0.751]\n"
     ]
    },
    {
     "name": "stdout",
     "output_type": "stream",
     "text": [
      "Epoch [50/100], Loss: 0.8284, Accuracy: 80.87%\n"
     ]
    },
    {
     "name": "stderr",
     "output_type": "stream",
     "text": [
      "Epoch 50/100:   0%|          | 0/782 [00:47<?, ?it/s, accuracy=80.9, loss=0.828]\n",
      "Epoch 51/100:   0%|          | 0/782 [00:42<?, ?it/s, accuracy=78.4, loss=0.948]"
     ]
    },
    {
     "name": "stdout",
     "output_type": "stream",
     "text": [
      "Epoch [51/100], Loss: 0.9476, Accuracy: 78.44%\n"
     ]
    },
    {
     "name": "stderr",
     "output_type": "stream",
     "text": [
      "Epoch 51/100:   0%|          | 0/782 [00:47<?, ?it/s, accuracy=78.4, loss=0.948]\n"
     ]
    },
    {
     "name": "stdout",
     "output_type": "stream",
     "text": [
      "Epoch [52/100], Loss: 1.0289, Accuracy: 76.94%\n"
     ]
    },
    {
     "name": "stderr",
     "output_type": "stream",
     "text": [
      "Epoch 52/100:   0%|          | 0/782 [00:47<?, ?it/s, accuracy=76.9, loss=1.03]\n",
      "Epoch 53/100:   0%|          | 0/782 [00:41<?, ?it/s, accuracy=74.7, loss=1.13] "
     ]
    },
    {
     "name": "stdout",
     "output_type": "stream",
     "text": [
      "Epoch [53/100], Loss: 1.1342, Accuracy: 74.65%\n"
     ]
    },
    {
     "name": "stderr",
     "output_type": "stream",
     "text": [
      "Epoch 53/100:   0%|          | 0/782 [00:46<?, ?it/s, accuracy=74.7, loss=1.13]\n"
     ]
    },
    {
     "name": "stdout",
     "output_type": "stream",
     "text": [
      "Epoch [54/100], Loss: 1.1948, Accuracy: 73.39%\n"
     ]
    },
    {
     "name": "stderr",
     "output_type": "stream",
     "text": [
      "Epoch 54/100:   0%|          | 0/782 [00:47<?, ?it/s, accuracy=73.4, loss=1.19]\n",
      "Epoch 55/100:   0%|          | 0/782 [00:42<?, ?it/s, accuracy=69.3, loss=1.4]  "
     ]
    },
    {
     "name": "stdout",
     "output_type": "stream",
     "text": [
      "Epoch [55/100], Loss: 1.4023, Accuracy: 69.25%\n"
     ]
    },
    {
     "name": "stderr",
     "output_type": "stream",
     "text": [
      "Epoch 55/100:   0%|          | 0/782 [00:47<?, ?it/s, accuracy=69.3, loss=1.4]\n"
     ]
    },
    {
     "name": "stdout",
     "output_type": "stream",
     "text": [
      "Epoch [56/100], Loss: 1.5002, Accuracy: 67.15%\n"
     ]
    },
    {
     "name": "stderr",
     "output_type": "stream",
     "text": [
      "Epoch 56/100:   0%|          | 0/782 [00:47<?, ?it/s, accuracy=67.1, loss=1.5]\n",
      "Epoch 57/100:   0%|          | 0/782 [00:42<?, ?it/s, accuracy=65, loss=1.6]   "
     ]
    },
    {
     "name": "stdout",
     "output_type": "stream",
     "text": [
      "Epoch [57/100], Loss: 1.6002, Accuracy: 65.03%\n"
     ]
    },
    {
     "name": "stderr",
     "output_type": "stream",
     "text": [
      "Epoch 57/100:   0%|          | 0/782 [00:47<?, ?it/s, accuracy=65, loss=1.6]\n"
     ]
    },
    {
     "name": "stdout",
     "output_type": "stream",
     "text": [
      "Epoch [58/100], Loss: 1.7261, Accuracy: 62.53%\n"
     ]
    },
    {
     "name": "stderr",
     "output_type": "stream",
     "text": [
      "Epoch 58/100:   0%|          | 0/782 [00:47<?, ?it/s, accuracy=62.5, loss=1.73]\n",
      "Epoch 59/100:   0%|          | 0/782 [00:42<?, ?it/s, accuracy=61.7, loss=1.77]"
     ]
    },
    {
     "name": "stdout",
     "output_type": "stream",
     "text": [
      "Epoch [59/100], Loss: 1.7698, Accuracy: 61.68%\n"
     ]
    },
    {
     "name": "stderr",
     "output_type": "stream",
     "text": [
      "Epoch 59/100:   0%|          | 0/782 [00:47<?, ?it/s, accuracy=61.7, loss=1.77]\n"
     ]
    },
    {
     "name": "stdout",
     "output_type": "stream",
     "text": [
      "Epoch [60/100], Loss: 1.9700, Accuracy: 57.81%\n"
     ]
    },
    {
     "name": "stderr",
     "output_type": "stream",
     "text": [
      "Epoch 60/100:   0%|          | 0/782 [00:47<?, ?it/s, accuracy=57.8, loss=1.97]\n",
      "Epoch 61/100:   0%|          | 0/782 [00:42<?, ?it/s, accuracy=57.2, loss=1.99]"
     ]
    },
    {
     "name": "stdout",
     "output_type": "stream",
     "text": [
      "Epoch [61/100], Loss: 1.9903, Accuracy: 57.21%\n"
     ]
    },
    {
     "name": "stderr",
     "output_type": "stream",
     "text": [
      "Epoch 61/100:   0%|          | 0/782 [00:47<?, ?it/s, accuracy=57.2, loss=1.99]\n"
     ]
    },
    {
     "name": "stdout",
     "output_type": "stream",
     "text": [
      "Epoch [62/100], Loss: 2.1457, Accuracy: 54.14%\n"
     ]
    },
    {
     "name": "stderr",
     "output_type": "stream",
     "text": [
      "Epoch 62/100:   0%|          | 0/782 [00:47<?, ?it/s, accuracy=54.1, loss=2.15]\n",
      "Epoch 63/100:   0%|          | 0/782 [00:42<?, ?it/s, accuracy=50.1, loss=2.34]"
     ]
    },
    {
     "name": "stdout",
     "output_type": "stream",
     "text": [
      "Epoch [63/100], Loss: 2.3444, Accuracy: 50.07%\n"
     ]
    },
    {
     "name": "stderr",
     "output_type": "stream",
     "text": [
      "Epoch 63/100:   0%|          | 0/782 [00:47<?, ?it/s, accuracy=50.1, loss=2.34]\n"
     ]
    },
    {
     "name": "stdout",
     "output_type": "stream",
     "text": [
      "Epoch [64/100], Loss: 2.3864, Accuracy: 49.15%\n"
     ]
    },
    {
     "name": "stderr",
     "output_type": "stream",
     "text": [
      "Epoch 64/100:   0%|          | 0/782 [00:47<?, ?it/s, accuracy=49.2, loss=2.39]\n",
      "Epoch 65/100:   0%|          | 0/782 [00:42<?, ?it/s, accuracy=47.3, loss=2.46]"
     ]
    },
    {
     "name": "stdout",
     "output_type": "stream",
     "text": [
      "Epoch [65/100], Loss: 2.4608, Accuracy: 47.33%\n"
     ]
    },
    {
     "name": "stderr",
     "output_type": "stream",
     "text": [
      "Epoch 65/100:   0%|          | 0/782 [00:47<?, ?it/s, accuracy=47.3, loss=2.46]\n"
     ]
    },
    {
     "name": "stdout",
     "output_type": "stream",
     "text": [
      "Epoch [66/100], Loss: 2.5772, Accuracy: 45.15%\n"
     ]
    },
    {
     "name": "stderr",
     "output_type": "stream",
     "text": [
      "Epoch 66/100:   0%|          | 0/782 [00:47<?, ?it/s, accuracy=45.2, loss=2.58]\n",
      "Epoch 67/100:   0%|          | 0/782 [00:42<?, ?it/s, accuracy=43.5, loss=2.65]"
     ]
    },
    {
     "name": "stdout",
     "output_type": "stream",
     "text": [
      "Epoch [67/100], Loss: 2.6474, Accuracy: 43.50%\n"
     ]
    },
    {
     "name": "stderr",
     "output_type": "stream",
     "text": [
      "Epoch 67/100:   0%|          | 0/782 [00:47<?, ?it/s, accuracy=43.5, loss=2.65]\n"
     ]
    },
    {
     "name": "stdout",
     "output_type": "stream",
     "text": [
      "Epoch [68/100], Loss: 2.7617, Accuracy: 41.38%\n"
     ]
    },
    {
     "name": "stderr",
     "output_type": "stream",
     "text": [
      "Epoch 68/100:   0%|          | 0/782 [00:47<?, ?it/s, accuracy=41.4, loss=2.76]\n",
      "Epoch 69/100:   0%|          | 0/782 [00:42<?, ?it/s, accuracy=42.2, loss=2.7] "
     ]
    },
    {
     "name": "stdout",
     "output_type": "stream",
     "text": [
      "Epoch [69/100], Loss: 2.7003, Accuracy: 42.17%\n"
     ]
    },
    {
     "name": "stderr",
     "output_type": "stream",
     "text": [
      "Epoch 69/100:   0%|          | 0/782 [00:46<?, ?it/s, accuracy=42.2, loss=2.7]\n"
     ]
    },
    {
     "name": "stdout",
     "output_type": "stream",
     "text": [
      "Epoch [70/100], Loss: 2.7657, Accuracy: 40.94%\n"
     ]
    },
    {
     "name": "stderr",
     "output_type": "stream",
     "text": [
      "Epoch 70/100:   0%|          | 0/782 [00:47<?, ?it/s, accuracy=40.9, loss=2.77]\n",
      "Epoch 71/100:   0%|          | 0/782 [00:42<?, ?it/s, accuracy=39.9, loss=2.83]"
     ]
    },
    {
     "name": "stdout",
     "output_type": "stream",
     "text": [
      "Epoch [71/100], Loss: 2.8272, Accuracy: 39.88%\n"
     ]
    },
    {
     "name": "stderr",
     "output_type": "stream",
     "text": [
      "Epoch 71/100:   0%|          | 0/782 [00:46<?, ?it/s, accuracy=39.9, loss=2.83]\n"
     ]
    },
    {
     "name": "stdout",
     "output_type": "stream",
     "text": [
      "Epoch [72/100], Loss: 2.8911, Accuracy: 38.51%\n"
     ]
    },
    {
     "name": "stderr",
     "output_type": "stream",
     "text": [
      "Epoch 72/100:   0%|          | 0/782 [00:47<?, ?it/s, accuracy=38.5, loss=2.89]\n",
      "Epoch 73/100:   0%|          | 0/782 [00:42<?, ?it/s, accuracy=37.3, loss=2.92]"
     ]
    },
    {
     "name": "stdout",
     "output_type": "stream",
     "text": [
      "Epoch [73/100], Loss: 2.9167, Accuracy: 37.35%\n"
     ]
    },
    {
     "name": "stderr",
     "output_type": "stream",
     "text": [
      "Epoch 73/100:   0%|          | 0/782 [00:47<?, ?it/s, accuracy=37.3, loss=2.92]\n"
     ]
    },
    {
     "name": "stdout",
     "output_type": "stream",
     "text": [
      "Epoch [74/100], Loss: 2.9200, Accuracy: 37.75%\n"
     ]
    },
    {
     "name": "stderr",
     "output_type": "stream",
     "text": [
      "Epoch 74/100:   0%|          | 0/782 [00:47<?, ?it/s, accuracy=37.8, loss=2.92]\n",
      "Epoch 75/100:   0%|          | 0/782 [00:42<?, ?it/s, accuracy=36.4, loss=2.99]"
     ]
    },
    {
     "name": "stdout",
     "output_type": "stream",
     "text": [
      "Epoch [75/100], Loss: 2.9907, Accuracy: 36.43%\n"
     ]
    },
    {
     "name": "stderr",
     "output_type": "stream",
     "text": [
      "Epoch 75/100:   0%|          | 0/782 [00:47<?, ?it/s, accuracy=36.4, loss=2.99]\n"
     ]
    },
    {
     "name": "stdout",
     "output_type": "stream",
     "text": [
      "Epoch [76/100], Loss: 2.9869, Accuracy: 36.27%\n"
     ]
    },
    {
     "name": "stderr",
     "output_type": "stream",
     "text": [
      "Epoch 76/100:   0%|          | 0/782 [00:47<?, ?it/s, accuracy=36.3, loss=2.99]\n",
      "Epoch 77/100:   0%|          | 0/782 [00:42<?, ?it/s, accuracy=31.9, loss=3.21]"
     ]
    },
    {
     "name": "stdout",
     "output_type": "stream",
     "text": [
      "Epoch [77/100], Loss: 3.2073, Accuracy: 31.89%\n"
     ]
    },
    {
     "name": "stderr",
     "output_type": "stream",
     "text": [
      "Epoch 77/100:   0%|          | 0/782 [00:46<?, ?it/s, accuracy=31.9, loss=3.21]\n"
     ]
    },
    {
     "name": "stdout",
     "output_type": "stream",
     "text": [
      "Epoch [78/100], Loss: 3.1606, Accuracy: 32.73%\n"
     ]
    },
    {
     "name": "stderr",
     "output_type": "stream",
     "text": [
      "Epoch 78/100:   0%|          | 0/782 [00:47<?, ?it/s, accuracy=32.7, loss=3.16]\n",
      "Epoch 79/100:   0%|          | 0/782 [00:42<?, ?it/s, accuracy=32.2, loss=3.19]"
     ]
    },
    {
     "name": "stdout",
     "output_type": "stream",
     "text": [
      "Epoch [79/100], Loss: 3.1913, Accuracy: 32.24%\n"
     ]
    },
    {
     "name": "stderr",
     "output_type": "stream",
     "text": [
      "Epoch 79/100:   0%|          | 0/782 [00:47<?, ?it/s, accuracy=32.2, loss=3.19]\n"
     ]
    },
    {
     "name": "stdout",
     "output_type": "stream",
     "text": [
      "Epoch [80/100], Loss: 3.2772, Accuracy: 30.23%\n"
     ]
    },
    {
     "name": "stderr",
     "output_type": "stream",
     "text": [
      "Epoch 80/100:   0%|          | 0/782 [00:47<?, ?it/s, accuracy=30.2, loss=3.28]\n",
      "Epoch 81/100:   0%|          | 0/782 [00:41<?, ?it/s, accuracy=28.5, loss=3.34]"
     ]
    },
    {
     "name": "stdout",
     "output_type": "stream",
     "text": [
      "Epoch [81/100], Loss: 3.3386, Accuracy: 28.45%\n"
     ]
    },
    {
     "name": "stderr",
     "output_type": "stream",
     "text": [
      "Epoch 81/100:   0%|          | 0/782 [00:46<?, ?it/s, accuracy=28.5, loss=3.34]\n"
     ]
    },
    {
     "name": "stdout",
     "output_type": "stream",
     "text": [
      "Epoch [82/100], Loss: 3.3439, Accuracy: 28.74%\n"
     ]
    },
    {
     "name": "stderr",
     "output_type": "stream",
     "text": [
      "Epoch 82/100:   0%|          | 0/782 [00:47<?, ?it/s, accuracy=28.7, loss=3.34]\n",
      "Epoch 83/100:   0%|          | 0/782 [00:42<?, ?it/s, accuracy=28.4, loss=3.36]"
     ]
    },
    {
     "name": "stdout",
     "output_type": "stream",
     "text": [
      "Epoch [83/100], Loss: 3.3561, Accuracy: 28.41%\n"
     ]
    },
    {
     "name": "stderr",
     "output_type": "stream",
     "text": [
      "Epoch 83/100:   0%|          | 0/782 [00:49<?, ?it/s, accuracy=28.4, loss=3.36]\n"
     ]
    },
    {
     "name": "stdout",
     "output_type": "stream",
     "text": [
      "Epoch [84/100], Loss: 3.2852, Accuracy: 29.86%\n"
     ]
    },
    {
     "name": "stderr",
     "output_type": "stream",
     "text": [
      "Epoch 84/100:   0%|          | 0/782 [00:47<?, ?it/s, accuracy=29.9, loss=3.29]\n",
      "Epoch 85/100:   0%|          | 0/782 [00:42<?, ?it/s, accuracy=26.6, loss=3.45]"
     ]
    },
    {
     "name": "stdout",
     "output_type": "stream",
     "text": [
      "Epoch [85/100], Loss: 3.4469, Accuracy: 26.57%\n"
     ]
    },
    {
     "name": "stderr",
     "output_type": "stream",
     "text": [
      "Epoch 85/100:   0%|          | 0/782 [00:47<?, ?it/s, accuracy=26.6, loss=3.45]\n"
     ]
    },
    {
     "name": "stdout",
     "output_type": "stream",
     "text": [
      "Epoch [86/100], Loss: 3.3274, Accuracy: 28.57%\n"
     ]
    },
    {
     "name": "stderr",
     "output_type": "stream",
     "text": [
      "Epoch 86/100:   0%|          | 0/782 [00:47<?, ?it/s, accuracy=28.6, loss=3.33]\n",
      "Epoch 87/100:   0%|          | 0/782 [00:42<?, ?it/s, accuracy=27, loss=3.4]   "
     ]
    },
    {
     "name": "stdout",
     "output_type": "stream",
     "text": [
      "Epoch [87/100], Loss: 3.4027, Accuracy: 26.96%\n"
     ]
    },
    {
     "name": "stderr",
     "output_type": "stream",
     "text": [
      "Epoch 87/100:   0%|          | 0/782 [00:47<?, ?it/s, accuracy=27, loss=3.4]\n"
     ]
    },
    {
     "name": "stdout",
     "output_type": "stream",
     "text": [
      "Epoch [88/100], Loss: 3.3807, Accuracy: 27.36%\n"
     ]
    },
    {
     "name": "stderr",
     "output_type": "stream",
     "text": [
      "Epoch 88/100:   0%|          | 0/782 [00:48<?, ?it/s, accuracy=27.4, loss=3.38]\n",
      "Epoch 89/100:   0%|          | 0/782 [00:43<?, ?it/s, accuracy=26, loss=3.45]  "
     ]
    },
    {
     "name": "stdout",
     "output_type": "stream",
     "text": [
      "Epoch [89/100], Loss: 3.4516, Accuracy: 25.97%\n"
     ]
    },
    {
     "name": "stderr",
     "output_type": "stream",
     "text": [
      "Epoch 89/100:   0%|          | 0/782 [00:48<?, ?it/s, accuracy=26, loss=3.45]\n"
     ]
    },
    {
     "name": "stdout",
     "output_type": "stream",
     "text": [
      "Epoch [90/100], Loss: 3.4774, Accuracy: 25.33%\n"
     ]
    },
    {
     "name": "stderr",
     "output_type": "stream",
     "text": [
      "Epoch 90/100:   0%|          | 0/782 [00:47<?, ?it/s, accuracy=25.3, loss=3.48]\n",
      "Epoch 91/100:   0%|          | 0/782 [00:43<?, ?it/s, accuracy=26.4, loss=3.42]"
     ]
    },
    {
     "name": "stdout",
     "output_type": "stream",
     "text": [
      "Epoch [91/100], Loss: 3.4221, Accuracy: 26.41%\n"
     ]
    },
    {
     "name": "stderr",
     "output_type": "stream",
     "text": [
      "Epoch 91/100:   0%|          | 0/782 [00:48<?, ?it/s, accuracy=26.4, loss=3.42]\n"
     ]
    },
    {
     "name": "stdout",
     "output_type": "stream",
     "text": [
      "Epoch [92/100], Loss: 3.4883, Accuracy: 24.91%\n"
     ]
    },
    {
     "name": "stderr",
     "output_type": "stream",
     "text": [
      "Epoch 92/100:   0%|          | 0/782 [00:48<?, ?it/s, accuracy=24.9, loss=3.49]\n",
      "Epoch 93/100:   0%|          | 0/782 [00:42<?, ?it/s, accuracy=25.4, loss=3.47]"
     ]
    },
    {
     "name": "stdout",
     "output_type": "stream",
     "text": [
      "Epoch [93/100], Loss: 3.4660, Accuracy: 25.44%\n"
     ]
    },
    {
     "name": "stderr",
     "output_type": "stream",
     "text": [
      "Epoch 93/100:   0%|          | 0/782 [00:47<?, ?it/s, accuracy=25.4, loss=3.47]\n"
     ]
    },
    {
     "name": "stdout",
     "output_type": "stream",
     "text": [
      "Epoch [94/100], Loss: 3.4345, Accuracy: 26.17%\n"
     ]
    },
    {
     "name": "stderr",
     "output_type": "stream",
     "text": [
      "Epoch 94/100:   0%|          | 0/782 [00:48<?, ?it/s, accuracy=26.2, loss=3.43]\n",
      "Epoch 95/100:   0%|          | 0/782 [00:43<?, ?it/s, accuracy=25.5, loss=3.46]"
     ]
    },
    {
     "name": "stdout",
     "output_type": "stream",
     "text": [
      "Epoch [95/100], Loss: 3.4563, Accuracy: 25.54%\n"
     ]
    },
    {
     "name": "stderr",
     "output_type": "stream",
     "text": [
      "Epoch 95/100:   0%|          | 0/782 [00:48<?, ?it/s, accuracy=25.5, loss=3.46]\n"
     ]
    },
    {
     "name": "stdout",
     "output_type": "stream",
     "text": [
      "Epoch [96/100], Loss: 3.4549, Accuracy: 25.91%\n"
     ]
    },
    {
     "name": "stderr",
     "output_type": "stream",
     "text": [
      "Epoch 96/100:   0%|          | 0/782 [00:48<?, ?it/s, accuracy=25.9, loss=3.45]\n",
      "Epoch 97/100:   0%|          | 0/782 [00:43<?, ?it/s, accuracy=22.2, loss=3.62]"
     ]
    },
    {
     "name": "stdout",
     "output_type": "stream",
     "text": [
      "Epoch [97/100], Loss: 3.6205, Accuracy: 22.20%\n"
     ]
    },
    {
     "name": "stderr",
     "output_type": "stream",
     "text": [
      "Epoch 97/100:   0%|          | 0/782 [00:48<?, ?it/s, accuracy=22.2, loss=3.62]\n"
     ]
    },
    {
     "name": "stdout",
     "output_type": "stream",
     "text": [
      "Epoch [98/100], Loss: 3.5279, Accuracy: 24.26%\n"
     ]
    },
    {
     "name": "stderr",
     "output_type": "stream",
     "text": [
      "Epoch 98/100:   0%|          | 0/782 [00:49<?, ?it/s, accuracy=24.3, loss=3.53]\n",
      "Epoch 99/100:   0%|          | 0/782 [00:43<?, ?it/s, accuracy=25.1, loss=3.49]"
     ]
    },
    {
     "name": "stdout",
     "output_type": "stream",
     "text": [
      "Epoch [99/100], Loss: 3.4886, Accuracy: 25.06%\n"
     ]
    },
    {
     "name": "stderr",
     "output_type": "stream",
     "text": [
      "Epoch 99/100:   0%|          | 0/782 [00:48<?, ?it/s, accuracy=25.1, loss=3.49]\n",
      "Epoch 100/100:   0%|          | 0/782 [00:43<?, ?it/s, accuracy=23.5, loss=3.57]"
     ]
    },
    {
     "name": "stdout",
     "output_type": "stream",
     "text": [
      "Epoch [100/100], Loss: 3.5738, Accuracy: 23.49%\n"
     ]
    },
    {
     "name": "stderr",
     "output_type": "stream",
     "text": [
      "\n"
     ]
    }
   ],
   "source": [
    "epochs = 100\n",
    "\n",
    "optimizer_accurate = optim.SGD(accurate_model.parameters(), lr=0.01, momentum=0.9)\n",
    "optimizer_fast = optim.SGD(fast_model.parameters(), lr=0.01, momentum=0.9)\n",
    "\n",
    "accurate_loss, accurate_acc = train(accurate_model, optimizer_accurate, num_epochs=epochs)\n",
    "fast_loss, fast_acc = train(fast_model, optimizer_fast, num_epochs=epochs)"
   ]
  },
  {
   "cell_type": "code",
   "execution_count": 12,
   "metadata": {},
   "outputs": [
    {
     "data": {
      "image/png": "[encoded data removed]",
      "text/plain": [
       "<Figure size 1200x500 with 2 Axes>"
      ]
     },
     "metadata": {},
     "output_type": "display_data"
    }
   ],
   "source": [
    "plt.figure(figsize=(12, 5))\n",
    "\n",
    "plt.subplot(1, 2, 1)\n",
    "plt.plot(accurate_loss, label=\"Accurate Model Loss\")\n",
    "plt.plot(fast_loss, label=\"Fast Model Loss\")\n",
    "plt.title(\"Loss\")\n",
    "plt.legend()\n",
    "\n",
    "plt.subplot(1, 2, 2)\n",
    "plt.plot(accurate_acc, label=\"Accurate Model Accuracy\")\n",
    "plt.plot(fast_acc, label=\"Fast Model Accuracy\")\n",
    "plt.title(\"Accuracy\")\n",
    "plt.legend()\n",
    "\n",
    "plt.show()"
   ]
  }
 ],
 "metadata": {
  "kernelspec": {
   "display_name": "Python 3",
   "language": "python",
   "name": "python3"
  },
  "language_info": {
   "codemirror_mode": {
    "name": "ipython",
    "version": 3
   },
   "file_extension": ".py",
   "mimetype": "text/x-python",
   "name": "python",
   "nbconvert_exporter": "python",
   "pygments_lexer": "ipython3",
   "version": "3.10.11"
  }
 },
 "nbformat": 4,
 "nbformat_minor": 2
}
