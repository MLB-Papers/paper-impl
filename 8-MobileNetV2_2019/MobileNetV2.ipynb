{
 "cells": [
  {
   "cell_type": "markdown",
   "metadata": {},
   "source": [
    "### Import Libraries"
   ]
  },
  {
   "cell_type": "code",
   "execution_count": 14,
   "metadata": {},
   "outputs": [],
   "source": [
    "import torch\n",
    "import torchvision\n",
    "import torchvision.transforms as transforms\n",
    "import torch.optim as optim\n",
    "from torch import nn\n",
    "from torchinfo import summary"
   ]
  },
  {
   "cell_type": "markdown",
   "metadata": {},
   "source": [
    "### Dataset"
   ]
  },
  {
   "cell_type": "code",
   "execution_count": 15,
   "metadata": {},
   "outputs": [
    {
     "name": "stdout",
     "output_type": "stream",
     "text": [
      "Files already downloaded and verified\n",
      "Files already downloaded and verified\n"
     ]
    }
   ],
   "source": [
    "# Image to Tensor, Normalization\n",
    "transform = transforms.Compose([\n",
    "    transforms.ToTensor(),  \n",
    "    transforms.Normalize((0.4914, 0.4822, 0.4465), (0.2023, 0.1994, 0.2010))  \n",
    "])\n",
    "\n",
    "# Download CIFAR-100 Dataset\n",
    "trainset = torchvision.datasets.CIFAR100(root='./data', train=True, download=True, transform=transform)\n",
    "trainloader = torch.utils.data.DataLoader(trainset, batch_size=64, shuffle=True, num_workers=2)\n",
    "\n",
    "testset = torchvision.datasets.CIFAR100(root='./data', train=False, download=True, transform=transform)\n",
    "testloader = torch.utils.data.DataLoader(testset, batch_size=64, shuffle=False, num_workers=2)\n",
    "\n",
    "classes = trainset.classes"
   ]
  },
  {
   "cell_type": "code",
   "execution_count": 16,
   "metadata": {},
   "outputs": [],
   "source": [
    "class InvertedBottleneck(nn.Module):\n",
    "    def __init__(self, in_channels, out_channels, t, stride = 1):\n",
    "        \"\"\"\n",
    "        Define Inverted Bottleneck block \n",
    "\n",
    "        Parameters:\n",
    "        - in_channels (int) : 입력 채널 수\n",
    "        - out_channels (int) : 출력 채널 수\n",
    "        t (int): 확장 비율 (expand ratio)\n",
    "        - stride (int, optional): stride값 (default = 1)\n",
    "        \"\"\"\n",
    "        super().__init__()\n",
    "\n",
    "        self.in_channels = in_channels\n",
    "        self.out_channels = out_channels\n",
    "        self.stride = stride\n",
    "\n",
    "        # Expansion layer (Channel 수 확장)\n",
    "        expand = nn.Sequential(\n",
    "            nn.Conv2d(in_channels, in_channels * t, 1, bias = False),\n",
    "            nn.BatchNorm2d(in_channels * t),\n",
    "            nn.ReLU6(inplace = True),\n",
    "        )\n",
    "\n",
    "        # Depthwise convolution layer\n",
    "        depthwise = nn.Sequential(\n",
    "            nn.Conv2d(in_channels * t, in_channels * t, 3, stride = stride, padding = 1, groups = in_channels * t, bias = False),\n",
    "            nn.BatchNorm2d(in_channels * t),\n",
    "            nn.ReLU6(inplace = True),\n",
    "        )\n",
    "\n",
    "        # Pointwise convolution layer\n",
    "        pointwise = nn.Sequential(\n",
    "            nn.Conv2d(in_channels * t, out_channels, 1, bias = False),\n",
    "            nn.BatchNorm2d(out_channels),\n",
    "        )\n",
    "        \n",
    "        # Residual connection\n",
    "        residual_list = []\n",
    "        if t > 1:\n",
    "            residual_list += [expand]\n",
    "        residual_list += [depthwise, pointwise]\n",
    "        self.residual = nn.Sequential(*residual_list)\n",
    "    \n",
    "\n",
    "\n",
    "    def forward(self, x):\n",
    "        \"\"\"\n",
    "        Define forward propagation\n",
    "\n",
    "        Parameters:\n",
    "        - x: input tensor\n",
    "\n",
    "        Returns:\n",
    "        - out: output tensor\n",
    "        \"\"\"\n",
    "        if self.stride == 1 and self.in_channels == self.out_channels:\n",
    "            # skip connection을 적용하는 경우 -> input과 output channel이 동일하고, stride=1인 경우\n",
    "            out = self.residual(x) + x\n",
    "        else:\n",
    "            # skip connection을 적용하지 않는 경우\n",
    "            out = self.residual(x)\n",
    "    \n",
    "        return out"
   ]
  },
  {
   "cell_type": "code",
   "execution_count": 17,
   "metadata": {},
   "outputs": [],
   "source": [
    "class MobileNetV2(nn.Module):\n",
    "    def __init__(self, n_classes = 1000):\n",
    "        super().__init__()\n",
    "\n",
    "        self.first_conv = nn.Sequential(\n",
    "            nn.Conv2d(3, 32, 3, stride = 2, padding = 1, bias = False),\n",
    "            nn.BatchNorm2d(32),\n",
    "            nn.ReLU6(inplace = True)\n",
    "        )\n",
    "\n",
    "        self.bottlenecks = nn.Sequential(\n",
    "            self.make_stage(32, 16, t = 1, n = 1),\n",
    "            self.make_stage(16, 24, t = 6, n = 2, stride = 2),\n",
    "            self.make_stage(24, 32, t = 6, n = 3, stride = 2),\n",
    "            self.make_stage(32, 64, t = 6, n = 4, stride = 2),\n",
    "            self.make_stage(64, 96, t = 6, n = 3),\n",
    "            self.make_stage(96, 160, t = 6, n = 3, stride = 2),\n",
    "            self.make_stage(160, 320, t = 6, n = 1)\n",
    "        )\n",
    "\n",
    "        self.last_conv = nn.Sequential(\n",
    "            nn.Conv2d(320, 1280, 1, bias = False),\n",
    "            nn.BatchNorm2d(1280),\n",
    "            nn.ReLU6(inplace = True)\n",
    "        )\n",
    "\n",
    "        self.avgpool = nn.AdaptiveAvgPool2d((1, 1))\n",
    "        self.fc = nn.Sequential(\n",
    "        \tnn.Dropout(0.2), # 채널 축으로 놓여있는 feature 들을 일부 가려보면서 학습\n",
    "            nn.Linear(1280, n_classes)\n",
    "        )\n",
    "    \n",
    "    def forward(self, x):\n",
    "        x = self.first_conv(x)\n",
    "        x = self.bottlenecks(x)\n",
    "        x = self.last_conv(x)\n",
    "        x = self.avgpool(x)\n",
    "        x = torch.flatten(x, 1) # (N, C, 1, 1) -> (N, C)\n",
    "        x = self.fc(x)\n",
    "        return x\n",
    "    \n",
    "    def make_stage(self, in_channels, out_channels, t, n, stride = 1):\n",
    "        layers = [InvertedBottleneck(in_channels, out_channels, t, stride)]\n",
    "        in_channels = out_channels\n",
    "        for _ in range(n-1):\n",
    "            layers.append(InvertedBottleneck(in_channels, out_channels, t))\n",
    "        \n",
    "        return nn.Sequential(*layers)"
   ]
  },
  {
   "cell_type": "code",
   "execution_count": 18,
   "metadata": {},
   "outputs": [
    {
     "data": {
      "text/plain": [
       "====================================================================================================\n",
       "Layer (type:depth-idx)                             Output Shape              Param #\n",
       "====================================================================================================\n",
       "MobileNetV2                                        [2, 1000]                 --\n",
       "├─Sequential: 1-1                                  [2, 32, 112, 112]         --\n",
       "│    └─Conv2d: 2-1                                 [2, 32, 112, 112]         864\n",
       "│    └─BatchNorm2d: 2-2                            [2, 32, 112, 112]         64\n",
       "│    └─ReLU6: 2-3                                  [2, 32, 112, 112]         --\n",
       "├─Sequential: 1-2                                  [2, 320, 7, 7]            --\n",
       "│    └─Sequential: 2-4                             [2, 16, 112, 112]         --\n",
       "│    │    └─InvertedBottleneck: 3-1                [2, 16, 112, 112]         896\n",
       "│    └─Sequential: 2-5                             [2, 24, 56, 56]           --\n",
       "│    │    └─InvertedBottleneck: 3-2                [2, 24, 56, 56]           5,136\n",
       "│    │    └─InvertedBottleneck: 3-3                [2, 24, 56, 56]           8,832\n",
       "│    └─Sequential: 2-6                             [2, 32, 28, 28]           --\n",
       "│    │    └─InvertedBottleneck: 3-4                [2, 32, 28, 28]           10,000\n",
       "│    │    └─InvertedBottleneck: 3-5                [2, 32, 28, 28]           14,848\n",
       "│    │    └─InvertedBottleneck: 3-6                [2, 32, 28, 28]           14,848\n",
       "│    └─Sequential: 2-7                             [2, 64, 14, 14]           --\n",
       "│    │    └─InvertedBottleneck: 3-7                [2, 64, 14, 14]           21,056\n",
       "│    │    └─InvertedBottleneck: 3-8                [2, 64, 14, 14]           54,272\n",
       "│    │    └─InvertedBottleneck: 3-9                [2, 64, 14, 14]           54,272\n",
       "│    │    └─InvertedBottleneck: 3-10               [2, 64, 14, 14]           54,272\n",
       "│    └─Sequential: 2-8                             [2, 96, 14, 14]           --\n",
       "│    │    └─InvertedBottleneck: 3-11               [2, 96, 14, 14]           66,624\n",
       "│    │    └─InvertedBottleneck: 3-12               [2, 96, 14, 14]           118,272\n",
       "│    │    └─InvertedBottleneck: 3-13               [2, 96, 14, 14]           118,272\n",
       "│    └─Sequential: 2-9                             [2, 160, 7, 7]            --\n",
       "│    │    └─InvertedBottleneck: 3-14               [2, 160, 7, 7]            155,264\n",
       "│    │    └─InvertedBottleneck: 3-15               [2, 160, 7, 7]            320,000\n",
       "│    │    └─InvertedBottleneck: 3-16               [2, 160, 7, 7]            320,000\n",
       "│    └─Sequential: 2-10                            [2, 320, 7, 7]            --\n",
       "│    │    └─InvertedBottleneck: 3-17               [2, 320, 7, 7]            473,920\n",
       "├─Sequential: 1-3                                  [2, 1280, 7, 7]           --\n",
       "│    └─Conv2d: 2-11                                [2, 1280, 7, 7]           409,600\n",
       "│    └─BatchNorm2d: 2-12                           [2, 1280, 7, 7]           2,560\n",
       "│    └─ReLU6: 2-13                                 [2, 1280, 7, 7]           --\n",
       "├─AdaptiveAvgPool2d: 1-4                           [2, 1280, 1, 1]           --\n",
       "├─Sequential: 1-5                                  [2, 1000]                 --\n",
       "│    └─Dropout: 2-14                               [2, 1280]                 --\n",
       "│    └─Linear: 2-15                                [2, 1000]                 1,281,000\n",
       "====================================================================================================\n",
       "Total params: 3,504,872\n",
       "Trainable params: 3,504,872\n",
       "Non-trainable params: 0\n",
       "Total mult-adds (Units.MEGABYTES): 601.62\n",
       "====================================================================================================\n",
       "Input size (MB): 1.20\n",
       "Forward/backward pass size (MB): 213.72\n",
       "Params size (MB): 14.02\n",
       "Estimated Total Size (MB): 228.94\n",
       "===================================================================================================="
      ]
     },
     "execution_count": 18,
     "metadata": {},
     "output_type": "execute_result"
    }
   ],
   "source": [
    "model = MobileNetV2()\n",
    "summary(model, input_size = (2, 3, 224, 224), device = 'cuda' if torch.cuda.is_available() else cpu)"
   ]
  },
  {
   "cell_type": "code",
   "execution_count": 23,
   "metadata": {},
   "outputs": [
    {
     "name": "stdout",
     "output_type": "stream",
     "text": [
      "cuda:0\n"
     ]
    }
   ],
   "source": [
    "model = MobileNetV2(n_classes=100) \n",
    "device = torch.device('cuda:0' if torch.cuda.is_available() else 'cpu')\n",
    "model.to(device)\n",
    "print(device)\n",
    "\n",
    "criterion = nn.CrossEntropyLoss()\n",
    "optimizer = optim.Adam(model.parameters(), lr=0.001)"
   ]
  },
  {
   "cell_type": "code",
   "execution_count": 24,
   "metadata": {},
   "outputs": [
    {
     "name": "stdout",
     "output_type": "stream",
     "text": [
      "Epoch 1, Loss: 4.241464905116869\n",
      "Epoch 2, Loss: 3.8254292169800195\n",
      "Epoch 3, Loss: 3.5838198585583427\n",
      "Epoch 4, Loss: 3.399807040648692\n",
      "Epoch 5, Loss: 3.2567111092150363\n",
      "Epoch 6, Loss: 3.1653423937385345\n",
      "Epoch 7, Loss: 3.017401352867751\n",
      "Epoch 8, Loss: 2.9079995673635732\n",
      "Epoch 9, Loss: 2.818799265815169\n",
      "Epoch 10, Loss: 2.709724346999927\n",
      "Epoch 11, Loss: 2.6243818559305137\n",
      "Epoch 12, Loss: 2.5314308731147395\n",
      "Epoch 13, Loss: 2.4511972792313226\n",
      "Epoch 14, Loss: 2.4094053349836404\n",
      "Epoch 15, Loss: 2.330988227101543\n",
      "Epoch 16, Loss: 2.262169106842002\n",
      "Epoch 17, Loss: 2.219592074146661\n",
      "Epoch 18, Loss: 2.213916571701274\n",
      "Epoch 19, Loss: 2.167724436811169\n",
      "Epoch 20, Loss: 2.0593560580402386\n",
      "Epoch 21, Loss: 1.9882515912775494\n",
      "Epoch 22, Loss: 1.9553162725380315\n",
      "Epoch 23, Loss: 1.9335244188223348\n",
      "Epoch 24, Loss: 1.8776875659632866\n",
      "Epoch 25, Loss: 1.8301710507753866\n",
      "Epoch 26, Loss: 1.7765883277444279\n",
      "Epoch 27, Loss: 1.739388688141123\n",
      "Epoch 28, Loss: 1.7019983123025626\n"
     ]
    }
   ],
   "source": [
    "def train_model(model, trainloader, criterion, optimizer, num_epochs=50):\n",
    "    model.train()\n",
    "    \n",
    "    for epoch in range(num_epochs):\n",
    "        running_loss = 0.0\n",
    "        for inputs, labels in trainloader:\n",
    "            inputs, labels = inputs.to(device), labels.to(device)\n",
    "            \n",
    "            optimizer.zero_grad()\n",
    "            \n",
    "            outputs = model(inputs)\n",
    "            loss = criterion(outputs, labels)\n",
    "            loss.backward()\n",
    "            optimizer.step()\n",
    "            \n",
    "            running_loss += loss.item()\n",
    "        \n",
    "        print(f'Epoch {epoch+1}, Loss: {running_loss / len(trainloader)}')\n",
    "\n",
    "train_model(model, trainloader, criterion, optimizer)"
   ]
  },
  {
   "cell_type": "code",
   "execution_count": null,
   "metadata": {},
   "outputs": [
    {
     "name": "stdout",
     "output_type": "stream",
     "text": [
      "Accuracy: 30.53%\n"
     ]
    }
   ],
   "source": [
    "def evaluate_model(model, testloader):\n",
    "    model.eval()\n",
    "    correct = 0\n",
    "    total = 0\n",
    "    \n",
    "    with torch.no_grad():\n",
    "        for images, labels in testloader:\n",
    "            images, labels = images.to(device), labels.to(device)\n",
    "            outputs = model(images)\n",
    "            _, predicted = torch.max(outputs.data, 1)\n",
    "            total += labels.size(0)\n",
    "            correct += (predicted == labels).sum().item()\n",
    "    \n",
    "    print(f'Accuracy: {100 * correct / total}%')\n",
    "\n",
    "evaluate_model(model, testloader)"
   ]
  },
  {
   "cell_type": "code",
   "execution_count": null,
   "metadata": {},
   "outputs": [],
   "source": []
  }
 ],
 "metadata": {
  "kernelspec": {
   "display_name": "base",
   "language": "python",
   "name": "python3"
  },
  "language_info": {
   "codemirror_mode": {
    "name": "ipython",
    "version": 3
   },
   "file_extension": ".py",
   "mimetype": "text/x-python",
   "name": "python",
   "nbconvert_exporter": "python",
   "pygments_lexer": "ipython3",
   "version": "3.11.9"
  }
 },
 "nbformat": 4,
 "nbformat_minor": 2
}
