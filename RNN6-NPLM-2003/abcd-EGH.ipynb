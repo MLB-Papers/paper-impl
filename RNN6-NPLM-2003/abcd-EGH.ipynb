{
  "nbformat": 4,
  "nbformat_minor": 0,
  "metadata": {
    "colab": {
      "provenance": [],
      "gpuType": "T4"
    },
    "kernelspec": {
      "name": "python3",
      "display_name": "Python 3"
    },
    "language_info": {
      "name": "python"
    },
    "accelerator": "GPU"
  },
  "cells": [
    {
      "cell_type": "markdown",
      "source": [
        "# Code Implementation w/o pytorch"
      ],
      "metadata": {
        "id": "i9qzXY1oBHy-"
      }
    },
    {
      "cell_type": "markdown",
      "source": [
        "## Preprocessing\n",
        "> 이상한 나라의 엘리스 텍스트로 단어 사전을 구축, 단어를 인덱스로 매핑"
      ],
      "metadata": {
        "id": "9FbjGhAes6CM"
      }
    },
    {
      "cell_type": "code",
      "execution_count": null,
      "metadata": {
        "colab": {
          "base_uri": "https://localhost:8080/"
        },
        "id": "nAfjxjZfsMB6",
        "outputId": "12e85199-f127-4870-947d-4ad42c20fd1a"
      },
      "outputs": [
        {
          "output_type": "stream",
          "name": "stdout",
          "text": [
            "Downloading text data...\n",
            "Download complete.\n",
            "Total words: 1000\n",
            "Vocabulary size: 463\n"
          ]
        }
      ],
      "source": [
        "import urllib.request\n",
        "\n",
        "# 텍스트 데이터 다운로드 함수\n",
        "def download_text(url):\n",
        "    response = urllib.request.urlopen(url)\n",
        "    raw = response.read().decode('utf-8')\n",
        "    return raw\n",
        "\n",
        "# 샘플 텍스트 데이터 다운로드 (Project Gutenberg의 \"Alice's Adventures in Wonderland\")\n",
        "url = 'https://www.gutenberg.org/files/11/11-0.txt'\n",
        "print(\"Downloading text data...\")\n",
        "text = download_text(url)\n",
        "print(\"Download complete.\")\n",
        "\n",
        "# 단어 단위로 분할\n",
        "words = text.lower().split()[:1000] # 1,000개 단어만 사용\n",
        "print(f\"Total words: {len(words)}\")\n",
        "\n",
        "# 단어 사전 구축\n",
        "vocab = sorted(list(set(words)))\n",
        "word_to_index = {word: idx for idx, word in enumerate(vocab)}\n",
        "index_to_word = {idx: word for idx, word in enumerate(vocab)}\n",
        "vocab_size = len(vocab)\n",
        "print(f\"Vocabulary size: {vocab_size}\")\n",
        "\n",
        "# 하이퍼파라미터 설정\n",
        "embedding_dim = 30 # 임베딩 벡터의 차원\n",
        "hidden_dim = 100 # 은닉층의 뉴런 수\n",
        "learning_rate = 0.01 # 학습률\n",
        "epochs = 3000 # 학습 에포크 수\n",
        "n = 2 # n-그램의 n 값\n",
        "batch_size = 32  # 배치 크기"
      ]
    },
    {
      "cell_type": "markdown",
      "source": [
        "## 모델 구성\n",
        "> 임베딩 층, 은닉 층, 출력 층 초기화"
      ],
      "metadata": {
        "id": "SLiU2GbEs8w1"
      }
    },
    {
      "cell_type": "code",
      "source": [
        "import numpy as np\n",
        "import math\n",
        "\n",
        "# Xavier 초기화 함수\n",
        "def xavier_init(size_in, size_out):\n",
        "    bound = np.sqrt(6.0) / np.sqrt(size_in + size_out)\n",
        "    return np.random.uniform(-bound, bound, (size_in, size_out)).astype(np.float64)\n",
        "\n",
        "# 가중치 초기화 (Xavier 초기화 적용)\n",
        "E = xavier_init(vocab_size, embedding_dim)       # 임베딩 행렬: V x D\n",
        "W = xavier_init(n * embedding_dim, hidden_dim)  # 은닉층 가중치: (n*D) x H\n",
        "b = np.zeros(hidden_dim, dtype=np.float64)      # 은닉층 바이어스: H\n",
        "V_out = xavier_init(hidden_dim, vocab_size)     # 출력층 가중치: H x V\n",
        "c = np.zeros(vocab_size, dtype=np.float64)       # 출력층 바이어스: V\n",
        "\n",
        "# 활성화 함수: ReLU 및 도함수\n",
        "def relu(x):\n",
        "    return np.maximum(0, x)\n",
        "\n",
        "def relu_derivative(x):\n",
        "    return (x > 0).astype(np.float64)\n",
        "\n",
        "# 소프트맥스 함수\n",
        "def softmax(z):\n",
        "    z = z - np.max(z, axis=1, keepdims=True)  # 안정성을 위해 최대값을 빼줌\n",
        "    exps = np.exp(z)\n",
        "    return exps / np.sum(exps, axis=1, keepdims=True)"
      ],
      "metadata": {
        "id": "9A39WWldsXrM"
      },
      "execution_count": null,
      "outputs": []
    },
    {
      "cell_type": "markdown",
      "source": [
        "## Train"
      ],
      "metadata": {
        "id": "qcW9Zn79tJ-Q"
      }
    },
    {
      "cell_type": "code",
      "source": [
        "import matplotlib.pyplot as plt\n",
        "\n",
        "# 학습 데이터 준비 (n-그램)\n",
        "def generate_training_data(words, n):\n",
        "    training_data = []\n",
        "    for i in range(n, len(words)):\n",
        "        context = words[i-n:i]\n",
        "        target = words[i]\n",
        "        training_data.append((context, target))\n",
        "    return training_data\n",
        "\n",
        "training_data = generate_training_data(words, n)\n",
        "print(f\"Total training samples: {len(training_data)}\")\n",
        "\n",
        "# 배치 학습을 위한 데이터 셔플 및 배치 생성 함수\n",
        "def create_batches(data, batch_size):\n",
        "    np.random.shuffle(data)\n",
        "    batches = []\n",
        "    for i in range(0, len(data), batch_size):\n",
        "        batch = data[i:i + batch_size]\n",
        "        if len(batch) == batch_size:\n",
        "            batches.append(batch)\n",
        "    return batches\n",
        "\n",
        "# 학습 루프\n",
        "loss_history = []\n",
        "\n",
        "for epoch in range(1, epochs + 1):\n",
        "    batches = create_batches(training_data, batch_size)\n",
        "    total_loss = 0.0\n",
        "    for batch in batches:\n",
        "        # 배치 데이터 준비\n",
        "        contexts = [sample[0] for sample in batch]\n",
        "        targets = [word_to_index[sample[1]] for sample in batch]\n",
        "\n",
        "        # 컨텍스트 단어 인덱스\n",
        "        context_indices = np.array([[word_to_index[word] for word in context] for context in contexts], dtype=np.int32)  # (batch_size, n)\n",
        "\n",
        "        # 임베딩 벡터 추출 및 평탄화\n",
        "        x = E[context_indices].reshape(batch_size, -1)  # (batch_size, n*D)\n",
        "\n",
        "        # 순전파: 은닉층 계산\n",
        "        z_hidden = np.dot(x, W) + b  # (batch_size, H)\n",
        "        h = relu(z_hidden)           # (batch_size, H)\n",
        "\n",
        "        # 순전파: 출력층 계산\n",
        "        z_output = np.dot(h, V_out) + c  # (batch_size, V)\n",
        "        y_pred = softmax(z_output)       # (batch_size, V)\n",
        "\n",
        "        # 손실 계산: 교차 엔트로피\n",
        "        target_one_hot = np.zeros_like(y_pred)\n",
        "        target_one_hot[np.arange(batch_size), targets] = 1\n",
        "        loss = -np.sum(target_one_hot * np.log(y_pred + 1e-10)) / batch_size\n",
        "        total_loss += loss\n",
        "\n",
        "        # 역전파: 출력층 오차\n",
        "        delta_o = (y_pred - target_one_hot) / batch_size  # (batch_size, V)\n",
        "\n",
        "        # 출력층 가중치 및 바이어스 그라디언트\n",
        "        grad_V_out = np.dot(h.T, delta_o)  # (H, V)\n",
        "        grad_c = np.sum(delta_o, axis=0)   # (V,)\n",
        "\n",
        "        # 역전파: 은닉층 오차\n",
        "        delta_h = np.dot(delta_o, V_out.T) * relu_derivative(z_hidden)  # (batch_size, H)\n",
        "\n",
        "        # 은닉층 가중치 및 바이어스 그라디언트\n",
        "        grad_W = np.dot(x.T, delta_h)  # (n*D, H)\n",
        "        grad_b = np.sum(delta_h, axis=0)  # (H,)\n",
        "\n",
        "        # 임베딩 층 그라디언트\n",
        "        grad_E = np.dot(delta_h, W.T).reshape(batch_size, n, embedding_dim)  # (batch_size, n, D)\n",
        "\n",
        "        # 임베딩 인덱스 확장\n",
        "        E_updates = context_indices[:, :, np.newaxis]  # (batch_size, n, 1)\n",
        "\n",
        "        # 임베딩 그라디언트 합산\n",
        "        grad_E = grad_E.reshape(-1, embedding_dim)  # (batch_size * n, D)\n",
        "        E_flat = E.reshape(vocab_size, embedding_dim)\n",
        "        # Accumulate gradients for embedding updates\n",
        "        E_grad_accum = np.zeros_like(E)\n",
        "        for i in range(batch_size):\n",
        "            for j in range(n):\n",
        "                E_grad_accum[context_indices[i, j]] += grad_E[i * n + j]\n",
        "\n",
        "        # 가중치 및 바이어스 업데이트\n",
        "        V_out -= learning_rate * grad_V_out\n",
        "        c -= learning_rate * grad_c\n",
        "        W -= learning_rate * grad_W\n",
        "        b -= learning_rate * grad_b\n",
        "        E -= learning_rate * E_grad_accum\n",
        "\n",
        "    # 평균 손실 저장\n",
        "    avg_loss = total_loss / len(batches)\n",
        "    loss_history.append(avg_loss)\n",
        "\n",
        "    # 에포크마다 손실 출력\n",
        "    if epoch % 100 == 0 or epoch == 1:\n",
        "        print(f\"Epoch {epoch}/{epochs}, Loss: {avg_loss:.4f}\")\n",
        "\n",
        "# 손실 플롯\n",
        "plt.figure(figsize=(10, 6))\n",
        "plt.plot(range(1, epochs + 1), loss_history, label='Loss')\n",
        "plt.xlabel('Epoch')\n",
        "plt.ylabel('Average Cross-Entropy Loss')\n",
        "plt.title('Training Loss over Epochs')\n",
        "plt.legend()\n",
        "plt.grid(True)\n",
        "plt.show()"
      ],
      "metadata": {
        "colab": {
          "base_uri": "https://localhost:8080/",
          "height": 1000
        },
        "id": "HoJEfTyJsafF",
        "outputId": "b9aa3172-6242-43cb-cf04-2a71abb304e6"
      },
      "execution_count": null,
      "outputs": [
        {
          "output_type": "stream",
          "name": "stdout",
          "text": [
            "Total training samples: 998\n",
            "Epoch 1/3000, Loss: 6.1390\n",
            "Epoch 100/3000, Loss: 5.7460\n",
            "Epoch 200/3000, Loss: 5.5092\n",
            "Epoch 300/3000, Loss: 5.4285\n",
            "Epoch 400/3000, Loss: 5.3029\n",
            "Epoch 500/3000, Loss: 5.0959\n",
            "Epoch 600/3000, Loss: 4.7846\n",
            "Epoch 700/3000, Loss: 4.3535\n",
            "Epoch 800/3000, Loss: 3.8463\n",
            "Epoch 900/3000, Loss: 3.3263\n",
            "Epoch 1000/3000, Loss: 2.7735\n",
            "Epoch 1100/3000, Loss: 2.2542\n",
            "Epoch 1200/3000, Loss: 1.7909\n",
            "Epoch 1300/3000, Loss: 1.3979\n",
            "Epoch 1400/3000, Loss: 1.0910\n",
            "Epoch 1500/3000, Loss: 0.8603\n",
            "Epoch 1600/3000, Loss: 0.6894\n",
            "Epoch 1700/3000, Loss: 0.5652\n",
            "Epoch 1800/3000, Loss: 0.4758\n",
            "Epoch 1900/3000, Loss: 0.4077\n",
            "Epoch 2000/3000, Loss: 0.3582\n",
            "Epoch 2100/3000, Loss: 0.3192\n",
            "Epoch 2200/3000, Loss: 0.2876\n",
            "Epoch 2300/3000, Loss: 0.2643\n",
            "Epoch 2400/3000, Loss: 0.2448\n",
            "Epoch 2500/3000, Loss: 0.2325\n",
            "Epoch 2600/3000, Loss: 0.2208\n",
            "Epoch 2700/3000, Loss: 0.2118\n",
            "Epoch 2800/3000, Loss: 0.2048\n",
            "Epoch 2900/3000, Loss: 0.1969\n",
            "Epoch 3000/3000, Loss: 0.1929\n"
          ]
        },
        {
          "output_type": "display_data",
          "data": {
            "text/plain": [
              "<Figure size 1000x600 with 1 Axes>"
            ],
            "image/png": "[encoded data removed]"
          },
          "metadata": {}
        }
      ]
    },
    {
      "cell_type": "markdown",
      "source": [
        "## Test"
      ],
      "metadata": {
        "id": "qFJ_YzQ_tLfH"
      }
    },
    {
      "cell_type": "code",
      "source": [
        "def predict_next_word(E, W, b, V_out, c, context):\n",
        "    # 컨텍스트 단어 인덱스\n",
        "    context_indices = [word_to_index[word] for word in context]\n",
        "    x = E[context_indices].reshape(1, -1)  # (1, n*D)\n",
        "\n",
        "    # 순전파: 은닉층 계산\n",
        "    z_hidden = np.dot(x, W) + b  # (1, H)\n",
        "    h = relu(z_hidden)           # (1, H)\n",
        "\n",
        "    # 순전파: 출력층 계산\n",
        "    z_output = np.dot(h, V_out) + c  # (1, V)\n",
        "    y_pred = softmax(z_output)       # (1, V)\n",
        "\n",
        "    # 예측 단어 선택\n",
        "    predicted_idx = np.argmax(y_pred)\n",
        "    return index_to_word[predicted_idx]"
      ],
      "metadata": {
        "id": "ONGlMOsQsblm"
      },
      "execution_count": null,
      "outputs": []
    },
    {
      "cell_type": "code",
      "source": [
        "# 예제 예측\n",
        "test_context = [\"alice\", \"was\"]\n",
        "predicted_word = predict_next_word(E, W, b, V_out, c, test_context)\n",
        "print(f\"Context: {test_context}, Predicted next word: {predicted_word}\")"
      ],
      "metadata": {
        "colab": {
          "base_uri": "https://localhost:8080/"
        },
        "id": "Li_hyb4RspUx",
        "outputId": "dbdfef78-a708-45bf-b839-ade2792e1ca5"
      },
      "execution_count": null,
      "outputs": [
        {
          "output_type": "stream",
          "name": "stdout",
          "text": [
            "Context: ['alice', 'was'], Predicted next word: beginning\n"
          ]
        }
      ]
    },
    {
      "cell_type": "code",
      "source": [
        "def generate_sentence(E, W, b, V_out, c, start_context, max_length=20):\n",
        "    context = start_context.copy()\n",
        "    sentence = start_context.copy()\n",
        "\n",
        "    for _ in range(max_length):\n",
        "        predicted_word = predict_next_word(E, W, b, V_out, c, context)\n",
        "        sentence.append(predicted_word)\n",
        "        # 컨텍스트 업데이트\n",
        "        context = context[1:] + [predicted_word]\n",
        "        # 종료 조건 (예: 마침표)\n",
        "        if predicted_word.endswith('.'):\n",
        "            break\n",
        "\n",
        "    return ' '.join(sentence)"
      ],
      "metadata": {
        "id": "TOmoJ4jT-Gob"
      },
      "execution_count": null,
      "outputs": []
    },
    {
      "cell_type": "code",
      "source": [
        "# 샘플 문장 생성\n",
        "start_context = [\"the\", \"rabbit-hole\"]\n",
        "generated_sentence = generate_sentence(E, W, b, V_out, c, start_context)\n",
        "print(f\"Generated Sentence: {generated_sentence}\")"
      ],
      "metadata": {
        "colab": {
          "base_uri": "https://localhost:8080/"
        },
        "id": "G15hCwnG_7jy",
        "outputId": "f4266f6c-5d2e-4022-d775-39d6eeb4945c"
      },
      "execution_count": null,
      "outputs": [
        {
          "output_type": "stream",
          "name": "stdout",
          "text": [
            "Generated Sentence: the rabbit-hole alice was beginning to get very tired of sitting by her sister was reading, but it had no idea what\n"
          ]
        }
      ]
    },
    {
      "cell_type": "markdown",
      "source": [
        "# Code Implementation w/ pytorch"
      ],
      "metadata": {
        "id": "JP71mRCTBCC1"
      }
    },
    {
      "cell_type": "markdown",
      "source": [
        "## Import"
      ],
      "metadata": {
        "id": "EzMOqAe7BUS-"
      }
    },
    {
      "cell_type": "code",
      "source": [
        "import torch\n",
        "import torch.nn as nn\n",
        "import torch.optim as optim\n",
        "from torch.utils.data import Dataset, DataLoader\n",
        "\n",
        "import numpy as np\n",
        "import math\n",
        "import matplotlib.pyplot as plt\n",
        "import urllib.request\n",
        "from sklearn.model_selection import train_test_split"
      ],
      "metadata": {
        "id": "5Wmh4nNkBRC1"
      },
      "execution_count": null,
      "outputs": []
    },
    {
      "cell_type": "markdown",
      "source": [
        "## Data Load"
      ],
      "metadata": {
        "id": "vxuNav0TBUFE"
      }
    },
    {
      "cell_type": "code",
      "source": [
        "# 텍스트 데이터 다운로드 함수\n",
        "def download_text(url):\n",
        "    response = urllib.request.urlopen(url)\n",
        "    raw = response.read().decode('utf-8')\n",
        "    return raw\n",
        "\n",
        "# 샘플 텍스트 데이터 다운로드 (Project Gutenberg의 \"Alice's Adventures in Wonderland\")\n",
        "url = 'https://www.gutenberg.org/files/11/11-0.txt'\n",
        "print(\"Downloading text data...\")\n",
        "text = download_text(url)\n",
        "print(\"Download complete.\")\n",
        "\n",
        "# 단어 단위로 분할\n",
        "words = text.lower().split()\n",
        "print(f\"Total words: {len(words)}\")\n",
        "\n",
        "# 단어 사전 구축\n",
        "vocab = sorted(list(set(words)))\n",
        "word_to_index = {word: idx for idx, word in enumerate(vocab)}\n",
        "index_to_word = {idx: word for idx, word in enumerate(vocab)}\n",
        "vocab_size = len(vocab)\n",
        "print(f\"Vocabulary size: {vocab_size}\")"
      ],
      "metadata": {
        "colab": {
          "base_uri": "https://localhost:8080/"
        },
        "id": "Z07GcXcoBWAh",
        "outputId": "0f87b7c3-e030-4a42-aac5-a8bcee2755ce"
      },
      "execution_count": null,
      "outputs": [
        {
          "output_type": "stream",
          "name": "stdout",
          "text": [
            "Downloading text data...\n",
            "Download complete.\n",
            "Total words: 26549\n",
            "Vocabulary size: 5037\n"
          ]
        }
      ]
    },
    {
      "cell_type": "markdown",
      "source": [
        "## n-gram (2-gram)"
      ],
      "metadata": {
        "id": "40E5v51pBZXG"
      }
    },
    {
      "cell_type": "code",
      "source": [
        "# 하이퍼파라미터 설정\n",
        "n = 2  # n-그램의 n 값\n",
        "\n",
        "# n-그램 생성 함수\n",
        "def generate_training_data(words, n):\n",
        "    training_data = []\n",
        "    for i in range(n, len(words)):\n",
        "        context = words[i-n:i]\n",
        "        target = words[i]\n",
        "        training_data.append((context, target))\n",
        "    return training_data\n",
        "\n",
        "training_data = generate_training_data(words, n)\n",
        "print(f\"Total training samples: {len(training_data)}\")"
      ],
      "metadata": {
        "colab": {
          "base_uri": "https://localhost:8080/"
        },
        "id": "1K4BuFKbBZmt",
        "outputId": "4e58e03c-8740-4ee9-ee35-0435dbb41a6a"
      },
      "execution_count": null,
      "outputs": [
        {
          "output_type": "stream",
          "name": "stdout",
          "text": [
            "Total training samples: 26547\n"
          ]
        }
      ]
    },
    {
      "cell_type": "markdown",
      "source": [
        "## Dataset Class"
      ],
      "metadata": {
        "id": "p7y7WdTtBlab"
      }
    },
    {
      "cell_type": "code",
      "source": [
        "class NGramDataset(Dataset):\n",
        "    def __init__(self, data, word_to_index, n):\n",
        "        self.data = data\n",
        "        self.word_to_index = word_to_index\n",
        "        self.n = n\n",
        "\n",
        "    def __len__(self):\n",
        "        return len(self.data)\n",
        "\n",
        "    def __getitem__(self, idx):\n",
        "        context, target = self.data[idx]\n",
        "        context_idxs = [self.word_to_index[word] for word in context]\n",
        "        target_idx = self.word_to_index[target]\n",
        "        return torch.tensor(context_idxs, dtype=torch.long), torch.tensor(target_idx, dtype=torch.long)\n"
      ],
      "metadata": {
        "id": "juBdFlrwBoEW"
      },
      "execution_count": null,
      "outputs": []
    },
    {
      "cell_type": "markdown",
      "source": [
        "## DataLoader"
      ],
      "metadata": {
        "id": "esaav1J1Br1w"
      }
    },
    {
      "cell_type": "code",
      "source": [
        "# 하이퍼파라미터 설정\n",
        "batch_size = 32\n",
        "\n",
        "# 데이터셋 생성\n",
        "train_dataset = NGramDataset(training_data, word_to_index, n)\n",
        "\n",
        "# 데이터로더 생성\n",
        "train_loader = DataLoader(train_dataset, batch_size=batch_size, shuffle=True)"
      ],
      "metadata": {
        "id": "naAhv-nnBrbo"
      },
      "execution_count": null,
      "outputs": []
    },
    {
      "cell_type": "markdown",
      "source": [
        "## Modeling"
      ],
      "metadata": {
        "id": "A3zwzWGCBuvw"
      }
    },
    {
      "cell_type": "code",
      "source": [
        "class NeuralLanguageModel(nn.Module):\n",
        "    def __init__(self, vocab_size, embedding_dim, hidden_dim, n, dropout=0.5):\n",
        "        super(NeuralLanguageModel, self).__init__()\n",
        "        self.n = n\n",
        "        self.embedding = nn.Embedding(vocab_size, embedding_dim)\n",
        "        self.hidden = nn.Linear(n * embedding_dim, hidden_dim)\n",
        "        self.relu = nn.ReLU()\n",
        "        self.dropout = nn.Dropout(dropout)\n",
        "        self.output = nn.Linear(hidden_dim, vocab_size)\n",
        "\n",
        "        # Xavier 초기화 적용\n",
        "        nn.init.xavier_uniform_(self.embedding.weight)\n",
        "        nn.init.xavier_uniform_(self.hidden.weight)\n",
        "        nn.init.zeros_(self.hidden.bias)\n",
        "        nn.init.xavier_uniform_(self.output.weight)\n",
        "        nn.init.zeros_(self.output.bias)\n",
        "\n",
        "    def forward(self, x):\n",
        "        \"\"\"\n",
        "        x: (batch_size, n)\n",
        "        \"\"\"\n",
        "        embed = self.embedding(x)  # (batch_size, n, embedding_dim)\n",
        "        embed = embed.view(x.size(0), -1)  # (batch_size, n*embedding_dim)\n",
        "        hidden = self.hidden(embed)  # (batch_size, hidden_dim)\n",
        "        activated = self.relu(hidden)  # (batch_size, hidden_dim)\n",
        "        dropped = self.dropout(activated)  # (batch_size, hidden_dim)\n",
        "        out = self.output(dropped)  # (batch_size, vocab_size)\n",
        "        return out"
      ],
      "metadata": {
        "id": "Kmg9uiAKBuMH"
      },
      "execution_count": null,
      "outputs": []
    },
    {
      "cell_type": "markdown",
      "source": [
        "## Train"
      ],
      "metadata": {
        "id": "Hoo9Nvl_BxAC"
      }
    },
    {
      "cell_type": "code",
      "source": [
        "# 모델 하이퍼파라미터 설정\n",
        "embedding_dim = 50\n",
        "hidden_dim = 100\n",
        "best_loss = float('inf')\n",
        "\n",
        "# 모델 생성\n",
        "device = torch.device('cuda' if torch.cuda.is_available() else 'cpu')\n",
        "model = NeuralLanguageModel(vocab_size, embedding_dim, hidden_dim, n)\n",
        "model.to(device)\n",
        "\n",
        "# 손실 함수 및 최적화기 설정\n",
        "criterion = nn.CrossEntropyLoss()\n",
        "optimizer = optim.Adam(model.parameters(), lr=0.01)"
      ],
      "metadata": {
        "id": "_KWN7LYtBywB"
      },
      "execution_count": null,
      "outputs": []
    },
    {
      "cell_type": "code",
      "source": [
        "# 훈련 루프\n",
        "epochs = 3000\n",
        "loss_history = []\n",
        "accuracy_history = []\n",
        "\n",
        "for epoch in range(1, epochs + 1):\n",
        "    model.train()\n",
        "    total_loss = 0.0\n",
        "    total_correct = 0\n",
        "    total_samples = 0\n",
        "\n",
        "    for contexts, targets in train_loader:\n",
        "        # 데이터를 디바이스로 이동\n",
        "        contexts, targets = contexts.to(device), targets.to(device)\n",
        "\n",
        "        optimizer.zero_grad()\n",
        "        outputs = model(contexts)  # (batch_size, vocab_size)\n",
        "        loss = criterion(outputs, targets)\n",
        "        loss.backward()\n",
        "        optimizer.step()\n",
        "\n",
        "        total_loss += loss.item() * contexts.size(0)  # 배치 손실 누적\n",
        "        _, predicted = torch.max(outputs, 1)\n",
        "        total_correct += (predicted == targets).sum().item()\n",
        "        total_samples += contexts.size(0)\n",
        "\n",
        "    avg_loss = total_loss / total_samples\n",
        "    avg_accuracy = total_correct / total_samples\n",
        "    loss_history.append(avg_loss)\n",
        "    accuracy_history.append(avg_accuracy)\n",
        "\n",
        "    if avg_loss < best_loss:\n",
        "        best_loss = avg_loss\n",
        "        # 베스트 모델 저장\n",
        "        best_model_state = model.state_dict()\n",
        "\n",
        "    # 에포크마다 손실 및 정확도 출력\n",
        "    if epoch % 100 == 0 or epoch == 1:\n",
        "        print(f\"Epoch {epoch}/{epochs}, Loss: {avg_loss:.4f}, Accuracy: {avg_accuracy:.4f}\")\n",
        "\n",
        "# 손실 및 정확도 플롯\n",
        "plt.figure(figsize=(14, 6))\n",
        "\n",
        "# 손실 플롯\n",
        "plt.subplot(1, 2, 1)\n",
        "plt.plot(range(1, len(loss_history) + 1), loss_history, label='Training Loss')\n",
        "plt.xlabel('Epoch')\n",
        "plt.ylabel('Cross-Entropy Loss')\n",
        "plt.title('Training Loss over Epochs')\n",
        "plt.legend()\n",
        "plt.grid(True)\n",
        "\n",
        "# 정확도 플롯\n",
        "plt.subplot(1, 2, 2)\n",
        "plt.plot(range(1, len(accuracy_history) + 1), accuracy_history, label='Training Accuracy')\n",
        "plt.xlabel('Epoch')\n",
        "plt.ylabel('Accuracy')\n",
        "plt.title('Training Accuracy over Epochs')\n",
        "plt.legend()\n",
        "plt.grid(True)\n",
        "\n",
        "plt.tight_layout()\n",
        "plt.show()"
      ],
      "metadata": {
        "colab": {
          "base_uri": "https://localhost:8080/"
        },
        "id": "k5XrIF9fB6I-",
        "outputId": "0fb1e446-d3e0-4e8b-bb5b-7a1bd1464a5d"
      },
      "execution_count": null,
      "outputs": [
        {
          "output_type": "stream",
          "name": "stdout",
          "text": [
            "Epoch 1/3000, Loss: 7.1097, Accuracy: 0.0649\n",
            "Epoch 100/3000, Loss: 6.4527, Accuracy: 0.1107\n",
            "Epoch 200/3000, Loss: 6.3873, Accuracy: 0.1134\n",
            "Epoch 300/3000, Loss: 6.3731, Accuracy: 0.1161\n",
            "Epoch 400/3000, Loss: 6.3666, Accuracy: 0.1164\n"
          ]
        }
      ]
    },
    {
      "cell_type": "code",
      "source": [
        "# 모델 저장\n",
        "torch.save(best_model_state, 'best_language_model.pth')\n",
        "\n",
        "# 모델 불러오기\n",
        "model.load_state_dict(torch.load('best_language_model.pth'))"
      ],
      "metadata": {
        "colab": {
          "base_uri": "https://localhost:8080/"
        },
        "id": "mJClgTJiCj_Y",
        "outputId": "aec72504-9812-4a0b-8c94-ff5268890add"
      },
      "execution_count": null,
      "outputs": [
        {
          "output_type": "stream",
          "name": "stderr",
          "text": [
            "<ipython-input-30-08d4a1dc0c37>:5: FutureWarning: You are using `torch.load` with `weights_only=False` (the current default value), which uses the default pickle module implicitly. It is possible to construct malicious pickle data which will execute arbitrary code during unpickling (See https://github.com/pytorch/pytorch/blob/main/SECURITY.md#untrusted-models for more details). In a future release, the default value for `weights_only` will be flipped to `True`. This limits the functions that could be executed during unpickling. Arbitrary objects will no longer be allowed to be loaded via this mode unless they are explicitly allowlisted by the user via `torch.serialization.add_safe_globals`. We recommend you start setting `weights_only=True` for any use case where you don't have full control of the loaded file. Please open an issue on GitHub for any issues related to this experimental feature.\n",
            "  model.load_state_dict(torch.load('best_language_model.pth'))\n"
          ]
        },
        {
          "output_type": "execute_result",
          "data": {
            "text/plain": [
              "<All keys matched successfully>"
            ]
          },
          "metadata": {},
          "execution_count": 30
        }
      ]
    },
    {
      "cell_type": "markdown",
      "source": [
        "## Test"
      ],
      "metadata": {
        "id": "nf9lKOCAB9Q1"
      }
    },
    {
      "cell_type": "code",
      "source": [
        "model.load_state_dict(best_model_state)\n",
        "\n",
        "def generate_sentence(model, start_context, index_to_word, word_to_index, n, device, max_length=20):\n",
        "    model.eval()\n",
        "    context = start_context.copy()\n",
        "    sentence = start_context.copy()\n",
        "\n",
        "    with torch.no_grad():\n",
        "        for _ in range(max_length):\n",
        "            # 컨텍스트 단어 인덱스\n",
        "            context_idxs = torch.tensor([word_to_index[word] for word in context], dtype=torch.long).unsqueeze(0).to(device)  # (1, n)\n",
        "            outputs = model(context_idxs)\n",
        "            y_pred = torch.softmax(outputs, dim=1)\n",
        "            _, predicted = torch.max(y_pred, 1)\n",
        "            predicted_word = index_to_word[predicted.item()]\n",
        "            sentence.append(predicted_word)\n",
        "            context = context[1:] + [predicted_word]\n",
        "            if predicted_word.endswith('.'):\n",
        "                break\n",
        "    return ' '.join(sentence)"
      ],
      "metadata": {
        "id": "Wd6Jy5PDCEUj"
      },
      "execution_count": null,
      "outputs": []
    },
    {
      "cell_type": "code",
      "source": [
        "# 샘플 문장 생성 및 출력\n",
        "start_context = [\"she\", \"was\"]\n",
        "generated_sentence = generate_sentence(model, start_context, index_to_word, word_to_index, n, device)\n",
        "print(f\"Generated Sentence: {generated_sentence}\")"
      ],
      "metadata": {
        "colab": {
          "base_uri": "https://localhost:8080/"
        },
        "id": "TpwqIihjCRPq",
        "outputId": "203f9f1f-4a98-437e-8142-e055dd54fa53"
      },
      "execution_count": null,
      "outputs": [
        {
          "output_type": "stream",
          "name": "stdout",
          "text": [
            "Generated Sentence: she was the the the the the the the the the the the the the the the the the the the the\n"
          ]
        }
      ]
    },
    {
      "cell_type": "code",
      "source": [],
      "metadata": {
        "id": "Wi8UyIN7EP-p"
      },
      "execution_count": null,
      "outputs": []
    }
  ]
}